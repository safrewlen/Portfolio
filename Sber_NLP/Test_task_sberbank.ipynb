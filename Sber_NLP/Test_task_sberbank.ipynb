{
 "cells": [
  {
   "cell_type": "code",
   "execution_count": 6,
   "metadata": {},
   "outputs": [],
   "source": [
    "import json\n",
    "import pandas as pd\n",
    "import numpy as np\n",
    "\n",
    "import nltk\n",
    "# nltk.download(\"stopwords\")\n",
    "# nltk.download('punkt')\n",
    "from nltk.corpus import stopwords\n",
    "from nltk.tokenize import word_tokenize\n",
    "from nltk.stem.snowball import SnowballStemmer\n",
    "\n",
    "import string\n",
    "import re\n",
    "from pymystem3 import Mystem\n",
    "\n",
    "from sklearn.feature_extraction.text import CountVectorizer, TfidfVectorizer\n",
    "from sklearn.model_selection import train_test_split\n",
    "from sklearn.metrics import f1_score\n",
    "from sklearn.metrics import precision_recall_fscore_support\n",
    "from sklearn.linear_model import LogisticRegression\n",
    "\n",
    "import fasttext\n",
    "from catboost import CatBoostClassifier"
   ]
  },
  {
   "cell_type": "code",
   "execution_count": 3,
   "metadata": {},
   "outputs": [],
   "source": [
    "path = u'tn.json'\n",
    "with open(path, 'r', encoding=\"utf8\") as f:\n",
    "    data_tn = json.loads(f.read())\n",
    "\n",
    "with open(path, 'r', encoding=\"utf8\") as f:\n",
    "    data_tp = json.loads(f.read())"
   ]
  },
  {
   "cell_type": "code",
   "execution_count": 4,
   "metadata": {},
   "outputs": [],
   "source": [
    "df_tp = pd.DataFrame(data_tp, columns=['sentences'])\n",
    "df_tp['event'] = np.ones(len(data_tp)).astype(int)\n",
    "\n",
    "df_tn = pd.DataFrame(data_tn, columns=['sentences'])\n",
    "df_tn['event'] = np.zeros(len(data_tn)).astype(int)\n",
    "\n",
    "train_df = pd.concat([df_tn, df_tp], ignore_index = True)"
   ]
  },
  {
   "cell_type": "code",
   "execution_count": 5,
   "metadata": {},
   "outputs": [],
   "source": [
    "X_train, X_test, y_train, y_test = train_test_split(train_df.sentences, train_df.event, test_size=0.3, random_state = 17)"
   ]
  },
  {
   "cell_type": "markdown",
   "metadata": {},
   "source": [
    "## CountVect + LogReg"
   ]
  },
  {
   "cell_type": "code",
   "execution_count": 5,
   "metadata": {},
   "outputs": [
    {
     "name": "stderr",
     "output_type": "stream",
     "text": [
      "C:\\Users\\safre\\Anaconda3\\lib\\site-packages\\sklearn\\linear_model\\logistic.py:432: FutureWarning: Default solver will be changed to 'lbfgs' in 0.22. Specify a solver to silence this warning.\n",
      "  FutureWarning)\n"
     ]
    },
    {
     "data": {
      "text/plain": [
       "0.15869017632241816"
      ]
     },
     "execution_count": 5,
     "metadata": {},
     "output_type": "execute_result"
    }
   ],
   "source": [
    "vectorizer = CountVectorizer(max_features=1500, min_df=5, max_df=0.7)\n",
    "X_train_trans = vectorizer.fit_transform(X_train)\n",
    "X_test_trans = vectorizer.transform(X_test)\n",
    "\n",
    "X_train_trans = pd.DataFrame.sparse.from_spmatrix(X_train_trans, columns=vectorizer.get_feature_names())\n",
    "X_test_trans = pd.DataFrame.sparse.from_spmatrix(X_test_trans, columns=vectorizer.get_feature_names())\n",
    "\n",
    "model = LogisticRegression()\n",
    "model.fit(X_train_trans, y_train)\n",
    "y_pred = model.predict(X_test_trans)\n",
    "\n",
    "f1_score(y_test, y_pred)"
   ]
  },
  {
   "cell_type": "code",
   "execution_count": 6,
   "metadata": {},
   "outputs": [
    {
     "data": {
      "text/plain": [
       "(array([0.17718447, 0.16071429]),\n",
       " array([0.18159204, 0.15671642]),\n",
       " array([0.17936118, 0.15869018]),\n",
       " array([402, 402], dtype=int64))"
      ]
     },
     "execution_count": 6,
     "metadata": {},
     "output_type": "execute_result"
    }
   ],
   "source": [
    "precision_recall_fscore_support(y_test, y_pred)"
   ]
  },
  {
   "cell_type": "markdown",
   "metadata": {},
   "source": [
    "## CountVec + nltk stopwords + LogReg"
   ]
  },
  {
   "cell_type": "code",
   "execution_count": 7,
   "metadata": {},
   "outputs": [
    {
     "name": "stderr",
     "output_type": "stream",
     "text": [
      "C:\\Users\\safre\\Anaconda3\\lib\\site-packages\\sklearn\\linear_model\\logistic.py:432: FutureWarning: Default solver will be changed to 'lbfgs' in 0.22. Specify a solver to silence this warning.\n",
      "  FutureWarning)\n"
     ]
    },
    {
     "data": {
      "text/plain": [
       "0.17336683417085427"
      ]
     },
     "execution_count": 7,
     "metadata": {},
     "output_type": "execute_result"
    }
   ],
   "source": [
    "stopwords_ru = stopwords.words(\"russian\")\n",
    "\n",
    "vectorizer = CountVectorizer(max_features=1500, min_df=5, max_df=0.7, stop_words=stopwords_ru)\n",
    "X_train_trans = vectorizer.fit_transform(X_train)\n",
    "X_test_trans = vectorizer.transform(X_test)\n",
    "\n",
    "X_train_trans = pd.DataFrame.sparse.from_spmatrix(X_train_trans, columns=vectorizer.get_feature_names())\n",
    "X_test_trans = pd.DataFrame.sparse.from_spmatrix(X_test_trans, columns=vectorizer.get_feature_names())\n",
    "\n",
    "model = LogisticRegression()\n",
    "model.fit(X_train_trans, y_train)\n",
    "y_pred = model.predict(X_test_trans)\n",
    "\n",
    "f1_score(y_test, y_pred)"
   ]
  },
  {
   "cell_type": "markdown",
   "metadata": {},
   "source": [
    "## Stemming + CountVec(with nltk stopwords) + LogReg"
   ]
  },
  {
   "cell_type": "code",
   "execution_count": 8,
   "metadata": {},
   "outputs": [],
   "source": [
    "stemmer = SnowballStemmer(\"russian\", ignore_stopwords=True)\n",
    "def do_stemming(data):\n",
    "    data_stem = data.copy()\n",
    "    for i in data_stem.index:\n",
    "        text = []\n",
    "        tokens = [token for token in word_tokenize(data_stem[i]) if token not in stopwords_ru and token.strip() not in string.punctuation+'«—»']\n",
    "        for token in tokens:\n",
    "            text.append(stemmer.stem(token))\n",
    "        data_stem[i] = ' '.join(text)\n",
    "    return data_stem"
   ]
  },
  {
   "cell_type": "code",
   "execution_count": 9,
   "metadata": {},
   "outputs": [
    {
     "name": "stderr",
     "output_type": "stream",
     "text": [
      "C:\\Users\\safre\\Anaconda3\\lib\\site-packages\\sklearn\\linear_model\\logistic.py:432: FutureWarning: Default solver will be changed to 'lbfgs' in 0.22. Specify a solver to silence this warning.\n",
      "  FutureWarning)\n"
     ]
    },
    {
     "data": {
      "text/plain": [
       "0.17772215269086358"
      ]
     },
     "execution_count": 9,
     "metadata": {},
     "output_type": "execute_result"
    }
   ],
   "source": [
    "stopwords_ru = stopwords.words(\"russian\")\n",
    "\n",
    "X_train_stem = do_stemming(X_train)\n",
    "X_test_stem = do_stemming(X_test)\n",
    "\n",
    "vectorizer = CountVectorizer(max_features=1500, min_df=5, max_df=0.7, stop_words=stopwords_ru)\n",
    "X_train_trans = vectorizer.fit_transform(X_train_stem)\n",
    "X_test_trans = vectorizer.transform(X_test_stem)\n",
    "\n",
    "X_train_trans = pd.DataFrame.sparse.from_spmatrix(X_train_trans, columns=vectorizer.get_feature_names())\n",
    "X_test_trans = pd.DataFrame.sparse.from_spmatrix(X_test_trans, columns=vectorizer.get_feature_names())\n",
    "\n",
    "model = LogisticRegression()\n",
    "model.fit(X_train_trans, y_train)\n",
    "y_pred = model.predict(X_test_trans)\n",
    "\n",
    "f1_score(y_test, y_pred)"
   ]
  },
  {
   "cell_type": "markdown",
   "metadata": {},
   "source": [
    "## Stemming (with nltk stopwords) + TF-IDF Vec + LogReg"
   ]
  },
  {
   "cell_type": "code",
   "execution_count": 10,
   "metadata": {},
   "outputs": [
    {
     "name": "stderr",
     "output_type": "stream",
     "text": [
      "C:\\Users\\safre\\Anaconda3\\lib\\site-packages\\sklearn\\linear_model\\logistic.py:432: FutureWarning: Default solver will be changed to 'lbfgs' in 0.22. Specify a solver to silence this warning.\n",
      "  FutureWarning)\n"
     ]
    },
    {
     "data": {
      "text/plain": [
       "0.17632241813602018"
      ]
     },
     "execution_count": 10,
     "metadata": {},
     "output_type": "execute_result"
    }
   ],
   "source": [
    "stopwords_ru = stopwords.words(\"russian\")\n",
    "\n",
    "X_train_stem = do_stemming(X_train)\n",
    "X_test_stem = do_stemming(X_test)\n",
    "\n",
    "vectorizer = TfidfVectorizer(analyzer='word', token_pattern=r'\\w{1,}', max_features=1500)\n",
    "X_train_trans = vectorizer.fit_transform(X_train_stem)\n",
    "X_test_trans = vectorizer.transform(X_test_stem)\n",
    "\n",
    "X_train_trans = pd.DataFrame.sparse.from_spmatrix(X_train_trans, columns=vectorizer.get_feature_names())\n",
    "X_test_trans = pd.DataFrame.sparse.from_spmatrix(X_test_trans, columns=vectorizer.get_feature_names())\n",
    "\n",
    "model = LogisticRegression()\n",
    "model.fit(X_train_trans, y_train)\n",
    "y_pred = model.predict(X_test_trans)\n",
    "\n",
    "f1_score(y_test, y_pred)"
   ]
  },
  {
   "cell_type": "markdown",
   "metadata": {},
   "source": [
    "## Lemmatization + TF-IDF Vec + LogReg"
   ]
  },
  {
   "cell_type": "code",
   "execution_count": 11,
   "metadata": {},
   "outputs": [],
   "source": [
    "def do_lemmatization(data):\n",
    "    a = data.copy()\n",
    "    for i in a.index:\n",
    "        # remove special characters\n",
    "        a[i] = re.sub(r'\\W', ' ', a[i])\n",
    "        #remove numbers\n",
    "        a[i] = re.sub(r'\\d', '', a[i].lower())\n",
    "        # Substituting multiple spaces with single space\n",
    "        a[i] = re.sub(r'\\s+', ' ', a[i], flags=re.I)\n",
    "        # Converting to Lowercase\n",
    "#         a[i] = a[i].lower()\n",
    "        m = Mystem()\n",
    "#         a[i] = [m.lemmatize(word)[0] for word in a[i].split()]\n",
    "        a[i] = m.lemmatize(a[i])\n",
    "        a[i] = ''.join(a[i])\n",
    "    return a"
   ]
  },
  {
   "cell_type": "code",
   "execution_count": 12,
   "metadata": {},
   "outputs": [
    {
     "name": "stderr",
     "output_type": "stream",
     "text": [
      "C:\\Users\\safre\\Anaconda3\\lib\\site-packages\\sklearn\\linear_model\\logistic.py:432: FutureWarning: Default solver will be changed to 'lbfgs' in 0.22. Specify a solver to silence this warning.\n",
      "  FutureWarning)\n"
     ]
    },
    {
     "name": "stdout",
     "output_type": "stream",
     "text": [
      "Wall time: 1h 11min 58s\n"
     ]
    },
    {
     "data": {
      "text/plain": [
       "0.17861635220125782"
      ]
     },
     "execution_count": 12,
     "metadata": {},
     "output_type": "execute_result"
    }
   ],
   "source": [
    "%%time\n",
    "X_train_lem = do_lemmatization(X_train)\n",
    "X_test_lem = do_lemmatization(X_test)\n",
    "\n",
    "vectorizer = TfidfVectorizer(analyzer='word', token_pattern=r'\\w{1,}', max_features=1500)\n",
    "X_train_trans = vectorizer.fit_transform(X_train_lem)\n",
    "X_test_trans = vectorizer.transform(X_test_lem)\n",
    "\n",
    "X_train_trans = pd.DataFrame.sparse.from_spmatrix(X_train_trans, columns=vectorizer.get_feature_names())\n",
    "X_test_trans = pd.DataFrame.sparse.from_spmatrix(X_test_trans, columns=vectorizer.get_feature_names())\n",
    "\n",
    "model = LogisticRegression()\n",
    "model.fit(X_train_trans, y_train)\n",
    "y_pred = model.predict(X_test_trans)\n",
    "\n",
    "f1_score(y_test, y_pred)"
   ]
  },
  {
   "cell_type": "code",
   "execution_count": 13,
   "metadata": {},
   "outputs": [],
   "source": [
    "X_train_trans.to_pickle('lem_trans_train_df.pickle')\n",
    "X_test_trans.to_pickle('lem_trans_test_df.pickle')\n",
    "# df2 = pd.read_pickle('my_df.pickle')"
   ]
  },
  {
   "cell_type": "code",
   "execution_count": 19,
   "metadata": {},
   "outputs": [
    {
     "data": {
      "text/plain": [
       "0    0.162982\n",
       "1    0.000000\n",
       "2    0.000000\n",
       "3    0.000000\n",
       "4    0.000000\n",
       "Name: два, dtype: Sparse[float64, 0.0]"
      ]
     },
     "execution_count": 19,
     "metadata": {},
     "output_type": "execute_result"
    }
   ],
   "source": [
    "X_train_trans = pd.read_pickle('lem_trans_train_df.pickle')\n",
    "X_train_trans['два'].head()"
   ]
  },
  {
   "cell_type": "markdown",
   "metadata": {},
   "source": [
    "Очень много времени считается("
   ]
  },
  {
   "cell_type": "code",
   "execution_count": 20,
   "metadata": {},
   "outputs": [
    {
     "name": "stderr",
     "output_type": "stream",
     "text": [
      "C:\\Users\\safre\\Anaconda3\\lib\\site-packages\\sklearn\\linear_model\\logistic.py:432: FutureWarning: Default solver will be changed to 'lbfgs' in 0.22. Specify a solver to silence this warning.\n",
      "  FutureWarning)\n"
     ]
    },
    {
     "name": "stdout",
     "output_type": "stream",
     "text": [
      "Wall time: 58min 54s\n"
     ]
    },
    {
     "data": {
      "text/plain": [
       "0.1639344262295082"
      ]
     },
     "execution_count": 20,
     "metadata": {},
     "output_type": "execute_result"
    }
   ],
   "source": [
    "%%time\n",
    "X_train_lem = do_lemmatization(X_train)\n",
    "X_test_lem = do_lemmatization(X_test)\n",
    "\n",
    "vectorizer = CountVectorizer(max_features=1500, min_df=5, max_df=0.7, stop_words=stopwords_ru)\n",
    "X_train_trans = vectorizer.fit_transform(X_train_lem)\n",
    "X_test_trans = vectorizer.transform(X_test_lem)\n",
    "\n",
    "X_train_trans = pd.DataFrame.sparse.from_spmatrix(X_train_trans, columns=vectorizer.get_feature_names())\n",
    "X_test_trans = pd.DataFrame.sparse.from_spmatrix(X_test_trans, columns=vectorizer.get_feature_names())\n",
    "\n",
    "model = LogisticRegression()\n",
    "model.fit(X_train_trans, y_train)\n",
    "y_pred = model.predict(X_test_trans)\n",
    "\n",
    "f1_score(y_test, y_pred)"
   ]
  },
  {
   "cell_type": "markdown",
   "metadata": {},
   "source": [
    "## Lemmatization + TF-IDF Vec + CatBoost"
   ]
  },
  {
   "cell_type": "code",
   "execution_count": null,
   "metadata": {},
   "outputs": [],
   "source": [
    "%%time\n",
    "X_train_lem = do_lemmatization(X_train)\n",
    "X_test_lem = do_lemmatization(X_test)\n",
    "\n",
    "vectorizer = TfidfVectorizer(analyzer='word', token_pattern=r'\\w{1,}', max_features=1500)\n",
    "X_train_trans = vectorizer.fit_transform(X_train_lem)\n",
    "X_test_trans = vectorizer.transform(X_test_lem)\n",
    "\n",
    "X_train_trans = pd.DataFrame.sparse.from_spmatrix(X_train_trans, columns=vectorizer.get_feature_names())\n",
    "X_test_trans = pd.DataFrame.sparse.from_spmatrix(X_test_trans, columns=vectorizer.get_feature_names())\n",
    "\n",
    "model = CatBoostClassifier()\n",
    "model.fit(X_train_trans, y_train)\n",
    "y_pred = model.predict(X_test_trans)\n",
    "\n",
    "f1_score(y_test, y_pred)"
   ]
  },
  {
   "cell_type": "code",
   "execution_count": null,
   "metadata": {},
   "outputs": [],
   "source": []
  },
  {
   "cell_type": "markdown",
   "metadata": {},
   "source": [
    "## FastText word embeding + LogReg"
   ]
  },
  {
   "cell_type": "code",
   "execution_count": null,
   "metadata": {},
   "outputs": [],
   "source": []
  },
  {
   "cell_type": "code",
   "execution_count": null,
   "metadata": {},
   "outputs": [],
   "source": []
  },
  {
   "cell_type": "code",
   "execution_count": 3,
   "metadata": {},
   "outputs": [
    {
     "name": "stdout",
     "output_type": "stream",
     "text": [
      "tn.json\n"
     ]
    }
   ],
   "source": [
    "# import os\n",
    "# path = r'C:\\Users\\safre\\Documents\\Sber_NLP\\tn.json'\n",
    "# print(os.path.basename(path))\n",
    "\n",
    "# path = 'C:\\Users\\safre\\Documents\\Sber_NLP\\tn.json'\n",
    "# path = r''+'C:\\Users\\safre\\Documents\\Sber_NLP\\tn.json'\n",
    "# path\n",
    "# # with open(path, 'r', encoding=\"utf8\") as f:\n",
    "# #     data_tp = json.loads(f.read())"
   ]
  },
  {
   "cell_type": "code",
   "execution_count": 26,
   "metadata": {},
   "outputs": [
    {
     "name": "stdout",
     "output_type": "stream",
     "text": [
      "Введите путь к данным\n",
      "tp.json\n"
     ]
    }
   ],
   "source": [
    "# print('Введите путь к данным')\n",
    "# path = input()"
   ]
  },
  {
   "cell_type": "code",
   "execution_count": 16,
   "metadata": {},
   "outputs": [],
   "source": [
    "# path = u'test_data.json'\n",
    "# with open(path, 'r', encoding=\"utf8\") as f:\n",
    "#     data_test = json.loads(f.read())\n",
    "\n",
    "# data_test = pd.DataFrame(data_test)"
   ]
  },
  {
   "cell_type": "code",
   "execution_count": 6,
   "metadata": {},
   "outputs": [],
   "source": [
    "# stopwords_ru = stopwords.words(\"russian\")"
   ]
  },
  {
   "cell_type": "code",
   "execution_count": 7,
   "metadata": {},
   "outputs": [
    {
     "name": "stderr",
     "output_type": "stream",
     "text": [
      "Installing mystem to C:\\Users\\safre/.local/bin\\mystem.exe from http://download.cdn.yandex.net/mystem/mystem-3.1-win-64bit.zip\n"
     ]
    },
    {
     "data": {
      "text/html": [
       "<div>\n",
       "<style scoped>\n",
       "    .dataframe tbody tr th:only-of-type {\n",
       "        vertical-align: middle;\n",
       "    }\n",
       "\n",
       "    .dataframe tbody tr th {\n",
       "        vertical-align: top;\n",
       "    }\n",
       "\n",
       "    .dataframe thead th {\n",
       "        text-align: right;\n",
       "    }\n",
       "</style>\n",
       "<table border=\"1\" class=\"dataframe\">\n",
       "  <thead>\n",
       "    <tr style=\"text-align: right;\">\n",
       "      <th></th>\n",
       "      <th>sentences</th>\n",
       "      <th>event</th>\n",
       "    </tr>\n",
       "  </thead>\n",
       "  <tbody>\n",
       "    <tr>\n",
       "      <td>0</td>\n",
       "      <td>[причем,  , часть,  , котельный,  , быть,  , з...</td>\n",
       "      <td>0</td>\n",
       "    </tr>\n",
       "    <tr>\n",
       "      <td>1</td>\n",
       "      <td>[ооо,  «, балтинвестстрой,  » , взять,  , обяз...</td>\n",
       "      <td>0</td>\n",
       "    </tr>\n",
       "    <tr>\n",
       "      <td>2</td>\n",
       "      <td>[школа,  , на,  , южный,  , шоссе,  , на,  , 8...</td>\n",
       "      <td>0</td>\n",
       "    </tr>\n",
       "    <tr>\n",
       "      <td>3</td>\n",
       "      <td>[школа,  , на,  , южный,  , шоссе,  , планиров...</td>\n",
       "      <td>0</td>\n",
       "    </tr>\n",
       "    <tr>\n",
       "      <td>4</td>\n",
       "      <td>[беглов,  , перечислять,  , школа, , , который...</td>\n",
       "      <td>0</td>\n",
       "    </tr>\n",
       "    <tr>\n",
       "      <td>...</td>\n",
       "      <td>...</td>\n",
       "      <td>...</td>\n",
       "    </tr>\n",
       "    <tr>\n",
       "      <td>2675</td>\n",
       "      <td>[подрядчик,  , ооо,  «, альянсдорстрой, » , до...</td>\n",
       "      <td>1</td>\n",
       "    </tr>\n",
       "    <tr>\n",
       "      <td>2676</td>\n",
       "      <td>[он,  , заявлять, , , что,  , запуск,  , ракет...</td>\n",
       "      <td>1</td>\n",
       "    </tr>\n",
       "    <tr>\n",
       "      <td>2677</td>\n",
       "      <td>[застройщик,  , ЖК,  \", медовый,  , долина, \" ...</td>\n",
       "      <td>1</td>\n",
       "    </tr>\n",
       "    <tr>\n",
       "      <td>2678</td>\n",
       "      <td>[официальный,  , срок, , , указывать,  , в,  ,...</td>\n",
       "      <td>1</td>\n",
       "    </tr>\n",
       "    <tr>\n",
       "      <td>2679</td>\n",
       "      <td>[он,  , потребовать,  «, выдерживать,  , намеч...</td>\n",
       "      <td>1</td>\n",
       "    </tr>\n",
       "  </tbody>\n",
       "</table>\n",
       "<p>2680 rows × 2 columns</p>\n",
       "</div>"
      ],
      "text/plain": [
       "                                              sentences  event\n",
       "0     [причем,  , часть,  , котельный,  , быть,  , з...      0\n",
       "1     [ооо,  «, балтинвестстрой,  » , взять,  , обяз...      0\n",
       "2     [школа,  , на,  , южный,  , шоссе,  , на,  , 8...      0\n",
       "3     [школа,  , на,  , южный,  , шоссе,  , планиров...      0\n",
       "4     [беглов,  , перечислять,  , школа, , , который...      0\n",
       "...                                                 ...    ...\n",
       "2675  [подрядчик,  , ооо,  «, альянсдорстрой, » , до...      1\n",
       "2676  [он,  , заявлять, , , что,  , запуск,  , ракет...      1\n",
       "2677  [застройщик,  , ЖК,  \", медовый,  , долина, \" ...      1\n",
       "2678  [официальный,  , срок, , , указывать,  , в,  ,...      1\n",
       "2679  [он,  , потребовать,  «, выдерживать,  , намеч...      1\n",
       "\n",
       "[2680 rows x 2 columns]"
      ]
     },
     "execution_count": 7,
     "metadata": {},
     "output_type": "execute_result"
    }
   ],
   "source": [
    "# # def remove_punct(text):    \n",
    "# # string.punctuation\n",
    "# m = Mystem()\n",
    "# train_df.sentences = train_df.sentences.apply(lambda x: m.lemmatize(x))\n",
    "# # train_df.sentences = train_df.sentences.apply(lambda x: x.lower())\n",
    "# train_df"
   ]
  }
 ],
 "metadata": {
  "kernelspec": {
   "display_name": "Python 3",
   "language": "python",
   "name": "python3"
  },
  "language_info": {
   "codemirror_mode": {
    "name": "ipython",
    "version": 3
   },
   "file_extension": ".py",
   "mimetype": "text/x-python",
   "name": "python",
   "nbconvert_exporter": "python",
   "pygments_lexer": "ipython3",
   "version": "3.7.3"
  }
 },
 "nbformat": 4,
 "nbformat_minor": 2
}
