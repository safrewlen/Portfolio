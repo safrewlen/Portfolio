{
 "cells": [
  {
   "cell_type": "code",
   "execution_count": 1,
   "metadata": {},
   "outputs": [
    {
     "name": "stdout",
     "output_type": "stream",
     "text": [
      "/home/elena/Documents/Project_jobs\n"
     ]
    }
   ],
   "source": [
    "%cd .."
   ]
  },
  {
   "cell_type": "code",
   "execution_count": 4,
   "metadata": {},
   "outputs": [],
   "source": [
    "import numpy as np\n",
    "import pandas as pd\n",
    "import matplotlib.pyplot as plt\n",
    "%matplotlib inline\n",
    "import project_jobs.helper_functions as hf\n",
    "\n",
    "# import re\n",
    "# from collections import Counter\n",
    "# import seaborn as sns\n",
    "# sns.set(style= \"dark\")\n",
    "\n",
    "# from sklearn.feature_extraction.text import CountVectorizer\n",
    "# from sklearn.linear_model import LogisticRegression\n",
    "# from sklearn.model_selection import GridSearchCV\n",
    "\n",
    "# from sklearn.feature_selection import SelectKBest\n",
    "\n",
    "# from sklearn.model_selection import cross_val_score\n",
    "\n",
    "# from sklearn.model_selection import train_test_split\n",
    "\n",
    "# from sklearn.metrics import roc_auc_score"
   ]
  },
  {
   "cell_type": "code",
   "execution_count": 8,
   "metadata": {},
   "outputs": [
    {
     "name": "stdout",
     "output_type": "stream",
     "text": [
      "(3207, 28)\n",
      "28 \t Index(['Job ID', 'Agency', 'Posting Type', 'Business Title',\n",
      "       'Civil Service Title', 'Title Code No', 'Level', 'Job Category',\n",
      "       'Full-Time/Part-Time indicator', 'Salary Range From', 'Salary Range To',\n",
      "       'Salary Frequency', 'Work Location', 'Division/Work Unit',\n",
      "       'Job Description', 'Minimum Qual Requirements', 'Preferred Skills',\n",
      "       'Additional Information', 'To Apply', 'Hours/Shift', 'Work Location 1',\n",
      "       'Recruitment Contact', 'Residency Requirement', 'Posting Date',\n",
      "       'Post Until', 'Posting Updated', 'Process Date', 'Mean Salary'],\n",
      "      dtype='object')\n"
     ]
    }
   ],
   "source": [
    "data = hf.load_purified_data(r'data/NYC_Jobs.csv')\n",
    "print(data.shape)\n",
    "print(len(data.columns), '\\t', data.columns)"
   ]
  }
 ],
 "metadata": {
  "kernelspec": {
   "display_name": "Python 3",
   "language": "python",
   "name": "python3"
  },
  "language_info": {
   "codemirror_mode": {
    "name": "ipython",
    "version": 3
   },
   "file_extension": ".py",
   "mimetype": "text/x-python",
   "name": "python",
   "nbconvert_exporter": "python",
   "pygments_lexer": "ipython3",
   "version": "3.7.3"
  }
 },
 "nbformat": 4,
 "nbformat_minor": 2
}
