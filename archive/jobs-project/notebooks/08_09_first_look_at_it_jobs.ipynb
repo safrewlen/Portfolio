{
 "cells": [
  {
   "cell_type": "markdown",
   "metadata": {},
   "source": [
    "https://www.kaggle.com/mullervilmos/it-jobs/downloads/it-jobs.zip/1"
   ]
  },
  {
   "cell_type": "code",
   "execution_count": 1,
   "metadata": {},
   "outputs": [
    {
     "name": "stdout",
     "output_type": "stream",
     "text": [
      "/home/elena/Documents/Project_jobs\n"
     ]
    }
   ],
   "source": [
    "%cd .."
   ]
  },
  {
   "cell_type": "code",
   "execution_count": 3,
   "metadata": {},
   "outputs": [],
   "source": [
    "import zipfile\n",
    "import json\n",
    "import pandas as pd\n",
    "import re\n",
    "import matplotlib.pyplot as plt\n",
    "%matplotlib inline\n",
    "import numpy as np\n",
    "import seaborn as sns\n",
    "import matplotlib.dates as mdates\n",
    "from pandas.plotting import register_matplotlib_converters\n",
    "register_matplotlib_converters()"
   ]
  },
  {
   "cell_type": "code",
   "execution_count": 7,
   "metadata": {},
   "outputs": [
    {
     "data": {
      "text/html": [
       "<div>\n",
       "<style scoped>\n",
       "    .dataframe tbody tr th:only-of-type {\n",
       "        vertical-align: middle;\n",
       "    }\n",
       "\n",
       "    .dataframe tbody tr th {\n",
       "        vertical-align: top;\n",
       "    }\n",
       "\n",
       "    .dataframe thead th {\n",
       "        text-align: right;\n",
       "    }\n",
       "</style>\n",
       "<table border=\"1\" class=\"dataframe\">\n",
       "  <thead>\n",
       "    <tr style=\"text-align: right;\">\n",
       "      <th></th>\n",
       "      <th>categories</th>\n",
       "      <th>query</th>\n",
       "      <th>title</th>\n",
       "    </tr>\n",
       "  </thead>\n",
       "  <tbody>\n",
       "    <tr>\n",
       "      <th>195884</th>\n",
       "      <td>[.net, elasticsearch, rest, sql-server, entity...</td>\n",
       "      <td>visual studio 2015.txt</td>\n",
       "      <td>.NET Developer at Suzy (New York, NY)</td>\n",
       "    </tr>\n",
       "    <tr>\n",
       "      <th>204934</th>\n",
       "      <td>[.net, c#, javascript, sql, apache-spark]</td>\n",
       "      <td>zend framework.txt</td>\n",
       "      <td>Sr. Software Engineer (.Net) at Cheetah Digita...</td>\n",
       "    </tr>\n",
       "    <tr>\n",
       "      <th>200051</th>\n",
       "      <td>[c#, asp.net, angular, angularjs, machine-lear...</td>\n",
       "      <td>windows server.txt</td>\n",
       "      <td>Full-Stack .NET Developer at ThoughtTrace (Mag...</td>\n",
       "    </tr>\n",
       "    <tr>\n",
       "      <th>205331</th>\n",
       "      <td>[java, c#, .net, artificial-intelligence, chat...</td>\n",
       "      <td>xamarin test cloud.txt</td>\n",
       "      <td>Software Engineer (Multi platform - Java/. Net...</td>\n",
       "    </tr>\n",
       "    <tr>\n",
       "      <th>171562</th>\n",
       "      <td>[c#, .net, sql-server, wpf, asp.net]</td>\n",
       "      <td>xamarin test cloud.txt</td>\n",
       "      <td>Passionate .NET Developer at Hive Marketing Cl...</td>\n",
       "    </tr>\n",
       "  </tbody>\n",
       "</table>\n",
       "</div>"
      ],
      "text/plain": [
       "                                               categories  \\\n",
       "195884  [.net, elasticsearch, rest, sql-server, entity...   \n",
       "204934          [.net, c#, javascript, sql, apache-spark]   \n",
       "200051  [c#, asp.net, angular, angularjs, machine-lear...   \n",
       "205331  [java, c#, .net, artificial-intelligence, chat...   \n",
       "171562               [c#, .net, sql-server, wpf, asp.net]   \n",
       "\n",
       "                         query  \\\n",
       "195884  visual studio 2015.txt   \n",
       "204934      zend framework.txt   \n",
       "200051      windows server.txt   \n",
       "205331  xamarin test cloud.txt   \n",
       "171562  xamarin test cloud.txt   \n",
       "\n",
       "                                                    title  \n",
       "195884              .NET Developer at Suzy (New York, NY)  \n",
       "204934  Sr. Software Engineer (.Net) at Cheetah Digita...  \n",
       "200051  Full-Stack .NET Developer at ThoughtTrace (Mag...  \n",
       "205331  Software Engineer (Multi platform - Java/. Net...  \n",
       "171562  Passionate .NET Developer at Hive Marketing Cl...  "
      ]
     },
     "execution_count": 7,
     "metadata": {},
     "output_type": "execute_result"
    }
   ],
   "source": [
    "zf = zipfile.ZipFile('data/it-jobs.zip')\n",
    "# df = json.load(zf.open('jobs.json'))\n",
    "df = pd.read_json(zf.open('jobs.json')).T\n",
    "df.head()"
   ]
  },
  {
   "cell_type": "code",
   "execution_count": null,
   "metadata": {},
   "outputs": [],
   "source": []
  }
 ],
 "metadata": {
  "kernelspec": {
   "display_name": "Python 3",
   "language": "python",
   "name": "python3"
  },
  "language_info": {
   "codemirror_mode": {
    "name": "ipython",
    "version": 3
   },
   "file_extension": ".py",
   "mimetype": "text/x-python",
   "name": "python",
   "nbconvert_exporter": "python",
   "pygments_lexer": "ipython3",
   "version": "3.7.3"
  }
 },
 "nbformat": 4,
 "nbformat_minor": 2
}
