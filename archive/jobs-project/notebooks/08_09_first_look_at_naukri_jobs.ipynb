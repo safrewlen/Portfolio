{
 "cells": [
  {
   "cell_type": "markdown",
   "metadata": {},
   "source": [
    "https://www.kaggle.com/PromptCloudHQ/jobs-on-naukricom/downloads/jobs-on-naukricom.zip/1"
   ]
  },
  {
   "cell_type": "code",
   "execution_count": 1,
   "metadata": {},
   "outputs": [
    {
     "name": "stdout",
     "output_type": "stream",
     "text": [
      "/home/elena/Documents/Project_jobs\n"
     ]
    }
   ],
   "source": [
    "%cd .."
   ]
  },
  {
   "cell_type": "code",
   "execution_count": 2,
   "metadata": {},
   "outputs": [],
   "source": [
    "import zipfile\n",
    "import pandas as pd\n",
    "import re\n",
    "import matplotlib.pyplot as plt\n",
    "%matplotlib inline\n",
    "import numpy as np\n",
    "import seaborn as sns\n",
    "import matplotlib.dates as mdates\n",
    "from pandas.plotting import register_matplotlib_converters\n",
    "register_matplotlib_converters()"
   ]
  },
  {
   "cell_type": "code",
   "execution_count": 3,
   "metadata": {},
   "outputs": [
    {
     "name": "stdout",
     "output_type": "stream",
     "text": [
      "(22000, 14)\n"
     ]
    },
    {
     "data": {
      "text/html": [
       "<div>\n",
       "<style scoped>\n",
       "    .dataframe tbody tr th:only-of-type {\n",
       "        vertical-align: middle;\n",
       "    }\n",
       "\n",
       "    .dataframe tbody tr th {\n",
       "        vertical-align: top;\n",
       "    }\n",
       "\n",
       "    .dataframe thead th {\n",
       "        text-align: right;\n",
       "    }\n",
       "</style>\n",
       "<table border=\"1\" class=\"dataframe\">\n",
       "  <thead>\n",
       "    <tr style=\"text-align: right;\">\n",
       "      <th></th>\n",
       "      <th>company</th>\n",
       "      <th>education</th>\n",
       "      <th>experience</th>\n",
       "      <th>industry</th>\n",
       "      <th>jobdescription</th>\n",
       "      <th>jobid</th>\n",
       "      <th>joblocation_address</th>\n",
       "      <th>jobtitle</th>\n",
       "      <th>numberofpositions</th>\n",
       "      <th>payrate</th>\n",
       "      <th>postdate</th>\n",
       "      <th>site_name</th>\n",
       "      <th>skills</th>\n",
       "      <th>uniq_id</th>\n",
       "    </tr>\n",
       "  </thead>\n",
       "  <tbody>\n",
       "    <tr>\n",
       "      <th>0</th>\n",
       "      <td>MM Media Pvt Ltd</td>\n",
       "      <td>UG: B.Tech/B.E. - Any Specialization PG:Any Po...</td>\n",
       "      <td>0 - 1 yrs</td>\n",
       "      <td>Media / Entertainment / Internet</td>\n",
       "      <td>Job Description   Send me Jobs like this Quali...</td>\n",
       "      <td>210516002263</td>\n",
       "      <td>Chennai</td>\n",
       "      <td>Walkin Data Entry Operator (night Shift)</td>\n",
       "      <td>NaN</td>\n",
       "      <td>1,50,000 - 2,25,000 P.A</td>\n",
       "      <td>2016-05-21 19:30:00 +0000</td>\n",
       "      <td>NaN</td>\n",
       "      <td>ITES</td>\n",
       "      <td>43b19632647068535437c774b6ca6cf8</td>\n",
       "    </tr>\n",
       "    <tr>\n",
       "      <th>1</th>\n",
       "      <td>find live infotech</td>\n",
       "      <td>UG: B.Tech/B.E. - Any Specialization PG:MBA/PG...</td>\n",
       "      <td>0 - 0 yrs</td>\n",
       "      <td>Advertising / PR / MR / Event Management</td>\n",
       "      <td>Job Description   Send me Jobs like this Quali...</td>\n",
       "      <td>210516002391</td>\n",
       "      <td>Chennai</td>\n",
       "      <td>Work Based Onhome Based Part Time.</td>\n",
       "      <td>60.0</td>\n",
       "      <td>1,50,000 - 2,50,000 P.A. 20000</td>\n",
       "      <td>2016-05-21 19:30:00 +0000</td>\n",
       "      <td>NaN</td>\n",
       "      <td>Marketing</td>\n",
       "      <td>d4c72325e57f89f364812b5ed5a795f0</td>\n",
       "    </tr>\n",
       "    <tr>\n",
       "      <th>2</th>\n",
       "      <td>Softtech Career Infosystem Pvt. Ltd</td>\n",
       "      <td>UG: Any Graduate - Any Specialization PG:Any P...</td>\n",
       "      <td>4 - 8 yrs</td>\n",
       "      <td>IT-Software / Software Services</td>\n",
       "      <td>Job Description   Send me Jobs like this - as ...</td>\n",
       "      <td>101016900534</td>\n",
       "      <td>Bengaluru</td>\n",
       "      <td>Pl/sql Developer - SQL</td>\n",
       "      <td>NaN</td>\n",
       "      <td>Not Disclosed by Recruiter</td>\n",
       "      <td>2016-10-13 16:20:55 +0000</td>\n",
       "      <td>NaN</td>\n",
       "      <td>IT Software - Application Programming</td>\n",
       "      <td>c47df6f4cfdf5b46f1fd713ba61b9eba</td>\n",
       "    </tr>\n",
       "    <tr>\n",
       "      <th>3</th>\n",
       "      <td>Onboard HRServices LLP</td>\n",
       "      <td>UG: Any Graduate - Any Specialization PG:CA Do...</td>\n",
       "      <td>11 - 15 yrs</td>\n",
       "      <td>Banking / Financial Services / Broking</td>\n",
       "      <td>Job Description   Send me Jobs like this - Inv...</td>\n",
       "      <td>81016900536</td>\n",
       "      <td>Mumbai, Bengaluru, Kolkata, Chennai, Coimbator...</td>\n",
       "      <td>Manager/ad/partner - Indirect Tax - CA</td>\n",
       "      <td>NaN</td>\n",
       "      <td>Not Disclosed by Recruiter</td>\n",
       "      <td>2016-10-13 16:20:55 +0000</td>\n",
       "      <td>NaN</td>\n",
       "      <td>Accounts</td>\n",
       "      <td>115d28f140f694dd1cc61c53d03c66ae</td>\n",
       "    </tr>\n",
       "    <tr>\n",
       "      <th>4</th>\n",
       "      <td>Spire Technologies and Solutions Pvt. Ltd.</td>\n",
       "      <td>UG: B.Tech/B.E. - Any Specialization PG:Any Po...</td>\n",
       "      <td>6 - 8 yrs</td>\n",
       "      <td>IT-Software / Software Services</td>\n",
       "      <td>Job Description   Send me Jobs like this Pleas...</td>\n",
       "      <td>120916002122</td>\n",
       "      <td>Bengaluru</td>\n",
       "      <td>JAVA Technical Lead (6-8 yrs) -</td>\n",
       "      <td>4.0</td>\n",
       "      <td>Not Disclosed by Recruiter</td>\n",
       "      <td>2016-10-13 16:20:55 +0000</td>\n",
       "      <td>NaN</td>\n",
       "      <td>IT Software - Application Programming</td>\n",
       "      <td>a12553fc03bc7bcced8b1bb8963f97b4</td>\n",
       "    </tr>\n",
       "  </tbody>\n",
       "</table>\n",
       "</div>"
      ],
      "text/plain": [
       "                                      company  \\\n",
       "0                            MM Media Pvt Ltd   \n",
       "1                          find live infotech   \n",
       "2         Softtech Career Infosystem Pvt. Ltd   \n",
       "3                      Onboard HRServices LLP   \n",
       "4  Spire Technologies and Solutions Pvt. Ltd.   \n",
       "\n",
       "                                           education   experience  \\\n",
       "0  UG: B.Tech/B.E. - Any Specialization PG:Any Po...    0 - 1 yrs   \n",
       "1  UG: B.Tech/B.E. - Any Specialization PG:MBA/PG...    0 - 0 yrs   \n",
       "2  UG: Any Graduate - Any Specialization PG:Any P...    4 - 8 yrs   \n",
       "3  UG: Any Graduate - Any Specialization PG:CA Do...  11 - 15 yrs   \n",
       "4  UG: B.Tech/B.E. - Any Specialization PG:Any Po...    6 - 8 yrs   \n",
       "\n",
       "                                   industry  \\\n",
       "0          Media / Entertainment / Internet   \n",
       "1  Advertising / PR / MR / Event Management   \n",
       "2           IT-Software / Software Services   \n",
       "3    Banking / Financial Services / Broking   \n",
       "4           IT-Software / Software Services   \n",
       "\n",
       "                                      jobdescription         jobid  \\\n",
       "0  Job Description   Send me Jobs like this Quali...  210516002263   \n",
       "1  Job Description   Send me Jobs like this Quali...  210516002391   \n",
       "2  Job Description   Send me Jobs like this - as ...  101016900534   \n",
       "3  Job Description   Send me Jobs like this - Inv...   81016900536   \n",
       "4  Job Description   Send me Jobs like this Pleas...  120916002122   \n",
       "\n",
       "                                 joblocation_address  \\\n",
       "0                                            Chennai   \n",
       "1                                            Chennai   \n",
       "2                                          Bengaluru   \n",
       "3  Mumbai, Bengaluru, Kolkata, Chennai, Coimbator...   \n",
       "4                                          Bengaluru   \n",
       "\n",
       "                                   jobtitle  numberofpositions  \\\n",
       "0  Walkin Data Entry Operator (night Shift)                NaN   \n",
       "1        Work Based Onhome Based Part Time.               60.0   \n",
       "2                    Pl/sql Developer - SQL                NaN   \n",
       "3    Manager/ad/partner - Indirect Tax - CA                NaN   \n",
       "4           JAVA Technical Lead (6-8 yrs) -                4.0   \n",
       "\n",
       "                          payrate                   postdate site_name  \\\n",
       "0         1,50,000 - 2,25,000 P.A  2016-05-21 19:30:00 +0000       NaN   \n",
       "1  1,50,000 - 2,50,000 P.A. 20000  2016-05-21 19:30:00 +0000       NaN   \n",
       "2      Not Disclosed by Recruiter  2016-10-13 16:20:55 +0000       NaN   \n",
       "3      Not Disclosed by Recruiter  2016-10-13 16:20:55 +0000       NaN   \n",
       "4      Not Disclosed by Recruiter  2016-10-13 16:20:55 +0000       NaN   \n",
       "\n",
       "                                  skills                           uniq_id  \n",
       "0                                   ITES  43b19632647068535437c774b6ca6cf8  \n",
       "1                              Marketing  d4c72325e57f89f364812b5ed5a795f0  \n",
       "2  IT Software - Application Programming  c47df6f4cfdf5b46f1fd713ba61b9eba  \n",
       "3                               Accounts  115d28f140f694dd1cc61c53d03c66ae  \n",
       "4  IT Software - Application Programming  a12553fc03bc7bcced8b1bb8963f97b4  "
      ]
     },
     "execution_count": 3,
     "metadata": {},
     "output_type": "execute_result"
    }
   ],
   "source": [
    "zf = zipfile.ZipFile('data/jobs-on-naukricom.zip')\n",
    "df = pd.read_csv(zf.open('naukri_com-job_sample.csv'))\n",
    "print(df.shape)\n",
    "df.head()"
   ]
  },
  {
   "cell_type": "code",
   "execution_count": 4,
   "metadata": {},
   "outputs": [
    {
     "data": {
      "text/html": [
       "<div>\n",
       "<style scoped>\n",
       "    .dataframe tbody tr th:only-of-type {\n",
       "        vertical-align: middle;\n",
       "    }\n",
       "\n",
       "    .dataframe tbody tr th {\n",
       "        vertical-align: top;\n",
       "    }\n",
       "\n",
       "    .dataframe thead th {\n",
       "        text-align: right;\n",
       "    }\n",
       "</style>\n",
       "<table border=\"1\" class=\"dataframe\">\n",
       "  <thead>\n",
       "    <tr style=\"text-align: right;\">\n",
       "      <th></th>\n",
       "      <th>company</th>\n",
       "      <th>education</th>\n",
       "      <th>experience</th>\n",
       "      <th>industry</th>\n",
       "      <th>jobdescription</th>\n",
       "      <th>jobid</th>\n",
       "      <th>joblocation_address</th>\n",
       "      <th>jobtitle</th>\n",
       "      <th>numberofpositions</th>\n",
       "      <th>payrate</th>\n",
       "      <th>postdate</th>\n",
       "      <th>site_name</th>\n",
       "      <th>skills</th>\n",
       "      <th>uniq_id</th>\n",
       "      <th>year</th>\n",
       "      <th>month</th>\n",
       "    </tr>\n",
       "  </thead>\n",
       "  <tbody>\n",
       "    <tr>\n",
       "      <th>0</th>\n",
       "      <td>MM Media Pvt Ltd</td>\n",
       "      <td>UG: B.Tech/B.E. - Any Specialization PG:Any Po...</td>\n",
       "      <td>0 - 1 yrs</td>\n",
       "      <td>Media / Entertainment / Internet</td>\n",
       "      <td>Job Description   Send me Jobs like this Quali...</td>\n",
       "      <td>210516002263</td>\n",
       "      <td>Chennai</td>\n",
       "      <td>Walkin Data Entry Operator (night Shift)</td>\n",
       "      <td>NaN</td>\n",
       "      <td>1,50,000 - 2,25,000 P.A</td>\n",
       "      <td>2016-05-21 19:30:00+00:00</td>\n",
       "      <td>NaN</td>\n",
       "      <td>ITES</td>\n",
       "      <td>43b19632647068535437c774b6ca6cf8</td>\n",
       "      <td>2016</td>\n",
       "      <td>5</td>\n",
       "    </tr>\n",
       "    <tr>\n",
       "      <th>1</th>\n",
       "      <td>find live infotech</td>\n",
       "      <td>UG: B.Tech/B.E. - Any Specialization PG:MBA/PG...</td>\n",
       "      <td>0 - 0 yrs</td>\n",
       "      <td>Advertising / PR / MR / Event Management</td>\n",
       "      <td>Job Description   Send me Jobs like this Quali...</td>\n",
       "      <td>210516002391</td>\n",
       "      <td>Chennai</td>\n",
       "      <td>Work Based Onhome Based Part Time.</td>\n",
       "      <td>60.0</td>\n",
       "      <td>1,50,000 - 2,50,000 P.A. 20000</td>\n",
       "      <td>2016-05-21 19:30:00+00:00</td>\n",
       "      <td>NaN</td>\n",
       "      <td>Marketing</td>\n",
       "      <td>d4c72325e57f89f364812b5ed5a795f0</td>\n",
       "      <td>2016</td>\n",
       "      <td>5</td>\n",
       "    </tr>\n",
       "    <tr>\n",
       "      <th>2</th>\n",
       "      <td>Softtech Career Infosystem Pvt. Ltd</td>\n",
       "      <td>UG: Any Graduate - Any Specialization PG:Any P...</td>\n",
       "      <td>4 - 8 yrs</td>\n",
       "      <td>IT-Software / Software Services</td>\n",
       "      <td>Job Description   Send me Jobs like this - as ...</td>\n",
       "      <td>101016900534</td>\n",
       "      <td>Bengaluru</td>\n",
       "      <td>Pl/sql Developer - SQL</td>\n",
       "      <td>NaN</td>\n",
       "      <td>Not Disclosed by Recruiter</td>\n",
       "      <td>2016-10-13 16:20:55+00:00</td>\n",
       "      <td>NaN</td>\n",
       "      <td>IT Software - Application Programming</td>\n",
       "      <td>c47df6f4cfdf5b46f1fd713ba61b9eba</td>\n",
       "      <td>2016</td>\n",
       "      <td>10</td>\n",
       "    </tr>\n",
       "    <tr>\n",
       "      <th>3</th>\n",
       "      <td>Onboard HRServices LLP</td>\n",
       "      <td>UG: Any Graduate - Any Specialization PG:CA Do...</td>\n",
       "      <td>11 - 15 yrs</td>\n",
       "      <td>Banking / Financial Services / Broking</td>\n",
       "      <td>Job Description   Send me Jobs like this - Inv...</td>\n",
       "      <td>81016900536</td>\n",
       "      <td>Mumbai, Bengaluru, Kolkata, Chennai, Coimbator...</td>\n",
       "      <td>Manager/ad/partner - Indirect Tax - CA</td>\n",
       "      <td>NaN</td>\n",
       "      <td>Not Disclosed by Recruiter</td>\n",
       "      <td>2016-10-13 16:20:55+00:00</td>\n",
       "      <td>NaN</td>\n",
       "      <td>Accounts</td>\n",
       "      <td>115d28f140f694dd1cc61c53d03c66ae</td>\n",
       "      <td>2016</td>\n",
       "      <td>10</td>\n",
       "    </tr>\n",
       "    <tr>\n",
       "      <th>4</th>\n",
       "      <td>Spire Technologies and Solutions Pvt. Ltd.</td>\n",
       "      <td>UG: B.Tech/B.E. - Any Specialization PG:Any Po...</td>\n",
       "      <td>6 - 8 yrs</td>\n",
       "      <td>IT-Software / Software Services</td>\n",
       "      <td>Job Description   Send me Jobs like this Pleas...</td>\n",
       "      <td>120916002122</td>\n",
       "      <td>Bengaluru</td>\n",
       "      <td>JAVA Technical Lead (6-8 yrs) -</td>\n",
       "      <td>4.0</td>\n",
       "      <td>Not Disclosed by Recruiter</td>\n",
       "      <td>2016-10-13 16:20:55+00:00</td>\n",
       "      <td>NaN</td>\n",
       "      <td>IT Software - Application Programming</td>\n",
       "      <td>a12553fc03bc7bcced8b1bb8963f97b4</td>\n",
       "      <td>2016</td>\n",
       "      <td>10</td>\n",
       "    </tr>\n",
       "  </tbody>\n",
       "</table>\n",
       "</div>"
      ],
      "text/plain": [
       "                                      company  \\\n",
       "0                            MM Media Pvt Ltd   \n",
       "1                          find live infotech   \n",
       "2         Softtech Career Infosystem Pvt. Ltd   \n",
       "3                      Onboard HRServices LLP   \n",
       "4  Spire Technologies and Solutions Pvt. Ltd.   \n",
       "\n",
       "                                           education   experience  \\\n",
       "0  UG: B.Tech/B.E. - Any Specialization PG:Any Po...    0 - 1 yrs   \n",
       "1  UG: B.Tech/B.E. - Any Specialization PG:MBA/PG...    0 - 0 yrs   \n",
       "2  UG: Any Graduate - Any Specialization PG:Any P...    4 - 8 yrs   \n",
       "3  UG: Any Graduate - Any Specialization PG:CA Do...  11 - 15 yrs   \n",
       "4  UG: B.Tech/B.E. - Any Specialization PG:Any Po...    6 - 8 yrs   \n",
       "\n",
       "                                   industry  \\\n",
       "0          Media / Entertainment / Internet   \n",
       "1  Advertising / PR / MR / Event Management   \n",
       "2           IT-Software / Software Services   \n",
       "3    Banking / Financial Services / Broking   \n",
       "4           IT-Software / Software Services   \n",
       "\n",
       "                                      jobdescription         jobid  \\\n",
       "0  Job Description   Send me Jobs like this Quali...  210516002263   \n",
       "1  Job Description   Send me Jobs like this Quali...  210516002391   \n",
       "2  Job Description   Send me Jobs like this - as ...  101016900534   \n",
       "3  Job Description   Send me Jobs like this - Inv...   81016900536   \n",
       "4  Job Description   Send me Jobs like this Pleas...  120916002122   \n",
       "\n",
       "                                 joblocation_address  \\\n",
       "0                                            Chennai   \n",
       "1                                            Chennai   \n",
       "2                                          Bengaluru   \n",
       "3  Mumbai, Bengaluru, Kolkata, Chennai, Coimbator...   \n",
       "4                                          Bengaluru   \n",
       "\n",
       "                                   jobtitle  numberofpositions  \\\n",
       "0  Walkin Data Entry Operator (night Shift)                NaN   \n",
       "1        Work Based Onhome Based Part Time.               60.0   \n",
       "2                    Pl/sql Developer - SQL                NaN   \n",
       "3    Manager/ad/partner - Indirect Tax - CA                NaN   \n",
       "4           JAVA Technical Lead (6-8 yrs) -                4.0   \n",
       "\n",
       "                          payrate                  postdate site_name  \\\n",
       "0         1,50,000 - 2,25,000 P.A 2016-05-21 19:30:00+00:00       NaN   \n",
       "1  1,50,000 - 2,50,000 P.A. 20000 2016-05-21 19:30:00+00:00       NaN   \n",
       "2      Not Disclosed by Recruiter 2016-10-13 16:20:55+00:00       NaN   \n",
       "3      Not Disclosed by Recruiter 2016-10-13 16:20:55+00:00       NaN   \n",
       "4      Not Disclosed by Recruiter 2016-10-13 16:20:55+00:00       NaN   \n",
       "\n",
       "                                  skills                           uniq_id  \\\n",
       "0                                   ITES  43b19632647068535437c774b6ca6cf8   \n",
       "1                              Marketing  d4c72325e57f89f364812b5ed5a795f0   \n",
       "2  IT Software - Application Programming  c47df6f4cfdf5b46f1fd713ba61b9eba   \n",
       "3                               Accounts  115d28f140f694dd1cc61c53d03c66ae   \n",
       "4  IT Software - Application Programming  a12553fc03bc7bcced8b1bb8963f97b4   \n",
       "\n",
       "   year  month  \n",
       "0  2016      5  \n",
       "1  2016      5  \n",
       "2  2016     10  \n",
       "3  2016     10  \n",
       "4  2016     10  "
      ]
     },
     "execution_count": 4,
     "metadata": {},
     "output_type": "execute_result"
    }
   ],
   "source": [
    "df['postdate'] = pd.to_datetime(df['postdate'])\n",
    "# print(df['postdate'].dtype)\n",
    "# df['jobtitle'].isna().sum()\n",
    "df.dropna(subset=['postdate'], inplace=True)\n",
    "df['year'] = df['postdate'].dt.year.astype(int)\n",
    "df['month'] = df['postdate'].dt.month.astype(int)\n",
    "df.head()"
   ]
  },
  {
   "cell_type": "code",
   "execution_count": 5,
   "metadata": {},
   "outputs": [
    {
     "data": {
      "text/plain": [
       "business development manager      101\n",
       "business development executive     96\n",
       "software engineer                  88\n",
       "android developer                  77\n",
       "php developer                      72\n",
       "project manager                    71\n",
       "web designer                       69\n",
       "content writer                     68\n",
       "java developer                     61\n",
       "sales executive                    60\n",
       "Name: jobtitle, dtype: int64"
      ]
     },
     "execution_count": 5,
     "metadata": {},
     "output_type": "execute_result"
    }
   ],
   "source": [
    "df.jobtitle.str.lower().value_counts().head(10)"
   ]
  },
  {
   "cell_type": "code",
   "execution_count": 6,
   "metadata": {},
   "outputs": [],
   "source": [
    "def plot_vac(data, name):\n",
    "#     fig = plt.figure(figsize=(30,7))\n",
    "    ax = plt.subplot()\n",
    "    \n",
    "    import matplotlib.ticker as plticker\n",
    "    loc = plticker.MultipleLocator(base=2.0)\n",
    "    ax.xaxis.set_major_locator(loc)\n",
    "    line = data.plot(ax=ax, color='green', marker='o')\n",
    "    plt.xticks(rotation=45, fontsize=15)\n",
    "    plt.yticks(fontsize=15)\n",
    "    plt.title(name, fontsize=25)\n",
    "    plt.ylabel('Number of vacancies', fontsize=20)\n",
    "    plt.xlabel('Year, month', fontsize=20)\n",
    "    plt.grid()\n",
    "#     return plt.show()\n",
    "    return (plt.savefig(\"results/\" + name + \".png\", bbox_inches='tight'), plt.show())"
   ]
  },
  {
   "cell_type": "code",
   "execution_count": 7,
   "metadata": {},
   "outputs": [
    {
     "data": {
      "text/plain": [
       "year  month\n",
       "2015  11       106\n",
       "      12        86\n",
       "2016  1         53\n",
       "      2         27\n",
       "      3         77\n",
       "      4         16\n",
       "      5         69\n",
       "      6          3\n",
       "      8          6\n",
       "      9          2\n",
       "Name: jobtitle, dtype: int64"
      ]
     },
     "execution_count": 7,
     "metadata": {},
     "output_type": "execute_result"
    }
   ],
   "source": [
    "df_business_development = df[df.jobtitle.str.contains('business development', flags=re.IGNORECASE)]\n",
    "df_business_development.shape\n",
    "df_business_development_grouped = df_business_development.groupby(['year', 'month'])['jobtitle'].count()\n",
    "df_business_development_grouped.head(10)"
   ]
  },
  {
   "cell_type": "code",
   "execution_count": 8,
   "metadata": {},
   "outputs": [
    {
     "data": {
      "image/png": "[encoded data removed]",
      "text/plain": [
       "<Figure size 432x288 with 1 Axes>"
      ]
     },
     "metadata": {
      "needs_background": "light"
     },
     "output_type": "display_data"
    },
    {
     "data": {
      "text/plain": [
       "(None, None)"
      ]
     },
     "execution_count": 8,
     "metadata": {},
     "output_type": "execute_result"
    }
   ],
   "source": [
    "plot_vac(df_business_development_grouped, 'naukri_business_development')"
   ]
  },
  {
   "cell_type": "code",
   "execution_count": 9,
   "metadata": {},
   "outputs": [
    {
     "data": {
      "text/plain": [
       "year  month\n",
       "2015  11       88\n",
       "      12       46\n",
       "2016  1        99\n",
       "      2        31\n",
       "      3        70\n",
       "      4        27\n",
       "      5        26\n",
       "      8        13\n",
       "      10       62\n",
       "      11       25\n",
       "      12       42\n",
       "2017  1         4\n",
       "Name: jobtitle, dtype: int64"
      ]
     },
     "execution_count": 9,
     "metadata": {},
     "output_type": "execute_result"
    }
   ],
   "source": [
    "df_software_engineer = df[df.jobtitle.str.contains('software engineer', flags=re.IGNORECASE)]\n",
    "df_software_engineer.shape\n",
    "df_software_engineer_grouped = df_software_engineer.groupby(['year', 'month'])['jobtitle'].count()\n",
    "df_software_engineer_grouped"
   ]
  },
  {
   "cell_type": "code",
   "execution_count": 10,
   "metadata": {},
   "outputs": [
    {
     "data": {
      "image/png": "[encoded data removed]",
      "text/plain": [
       "<Figure size 432x288 with 1 Axes>"
      ]
     },
     "metadata": {
      "needs_background": "light"
     },
     "output_type": "display_data"
    },
    {
     "data": {
      "text/plain": [
       "(None, None)"
      ]
     },
     "execution_count": 10,
     "metadata": {},
     "output_type": "execute_result"
    }
   ],
   "source": [
    "plot_vac(df_software_engineer_grouped, 'naukri_software_engineer')"
   ]
  },
  {
   "cell_type": "code",
   "execution_count": 11,
   "metadata": {},
   "outputs": [
    {
     "data": {
      "text/plain": [
       "year  month\n",
       "2015  11        62\n",
       "      12        28\n",
       "2016  1         43\n",
       "      2         22\n",
       "      3        106\n",
       "      4         36\n",
       "      5         44\n",
       "      6          1\n",
       "      8         18\n",
       "      9          4\n",
       "      10        55\n",
       "      11        29\n",
       "      12        38\n",
       "2017  1          2\n",
       "Name: jobtitle, dtype: int64"
      ]
     },
     "execution_count": 11,
     "metadata": {},
     "output_type": "execute_result"
    }
   ],
   "source": [
    "df_data = df[df.jobtitle.str.contains('data', flags=re.IGNORECASE)]\n",
    "df_data.shape\n",
    "df_data_grouped = df_data.groupby(['year', 'month'])['jobtitle'].count()\n",
    "df_data_grouped"
   ]
  },
  {
   "cell_type": "code",
   "execution_count": 12,
   "metadata": {},
   "outputs": [
    {
     "data": {
      "image/png": "[encoded data removed]",
      "text/plain": [
       "<Figure size 432x288 with 1 Axes>"
      ]
     },
     "metadata": {
      "needs_background": "light"
     },
     "output_type": "display_data"
    },
    {
     "data": {
      "text/plain": [
       "(None, None)"
      ]
     },
     "execution_count": 12,
     "metadata": {},
     "output_type": "execute_result"
    }
   ],
   "source": [
    "plot_vac(df_data_grouped, 'naukri_data')"
   ]
  },
  {
   "cell_type": "code",
   "execution_count": 13,
   "metadata": {},
   "outputs": [
    {
     "data": {
      "text/plain": [
       "year  month\n",
       "2016  10       1\n",
       "Name: jobtitle, dtype: int64"
      ]
     },
     "execution_count": 13,
     "metadata": {},
     "output_type": "execute_result"
    }
   ],
   "source": [
    "df_blockchain = df[df.jobtitle.str.contains('blockchain', flags=re.IGNORECASE)]\n",
    "df_blockchain.shape\n",
    "df_blockchain_grouped = df_blockchain.groupby(['year', 'month'])['jobtitle'].count()\n",
    "df_blockchain_grouped"
   ]
  },
  {
   "cell_type": "code",
   "execution_count": 14,
   "metadata": {},
   "outputs": [
    {
     "name": "stderr",
     "output_type": "stream",
     "text": [
      "/home/elena/anaconda3/lib/python3.7/site-packages/pandas/plotting/_core.py:1001: UserWarning: Attempting to set identical left==right results\n",
      "in singular transformations; automatically expanding.\n",
      "left=0.0, right=0.0\n",
      "  ax.set_xlim(left, right)\n"
     ]
    },
    {
     "data": {
      "image/png": "[encoded data removed]",
      "text/plain": [
       "<Figure size 432x288 with 1 Axes>"
      ]
     },
     "metadata": {
      "needs_background": "light"
     },
     "output_type": "display_data"
    },
    {
     "data": {
      "text/plain": [
       "(None, None)"
      ]
     },
     "execution_count": 14,
     "metadata": {},
     "output_type": "execute_result"
    }
   ],
   "source": [
    "plot_vac(df_blockchain_grouped, 'naukri_blockchain')"
   ]
  }
 ],
 "metadata": {
  "kernelspec": {
   "display_name": "Python 3",
   "language": "python",
   "name": "python3"
  },
  "language_info": {
   "codemirror_mode": {
    "name": "ipython",
    "version": 3
   },
   "file_extension": ".py",
   "mimetype": "text/x-python",
   "name": "python",
   "nbconvert_exporter": "python",
   "pygments_lexer": "ipython3",
   "version": "3.7.3"
  }
 },
 "nbformat": 4,
 "nbformat_minor": 2
}
