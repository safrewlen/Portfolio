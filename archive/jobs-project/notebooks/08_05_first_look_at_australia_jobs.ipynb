{
 "cells": [
  {
   "cell_type": "markdown",
   "metadata": {},
   "source": [
    "https://www.kaggle.com/PromptCloudHQ/australian-job-listings-data-from-seek-job-board"
   ]
  },
  {
   "cell_type": "code",
   "execution_count": 1,
   "metadata": {},
   "outputs": [
    {
     "name": "stdout",
     "output_type": "stream",
     "text": [
      "/home/elena/Documents/Project_jobs\n"
     ]
    }
   ],
   "source": [
    "%cd .."
   ]
  },
  {
   "cell_type": "code",
   "execution_count": 2,
   "metadata": {},
   "outputs": [],
   "source": [
    "import zipfile\n",
    "import pandas as pd\n",
    "import re\n",
    "import matplotlib.pyplot as plt\n",
    "%matplotlib inline\n",
    "import numpy as np\n",
    "import seaborn as sns\n",
    "import matplotlib.dates as mdates\n",
    "from pandas.plotting import register_matplotlib_converters\n",
    "register_matplotlib_converters()"
   ]
  },
  {
   "cell_type": "code",
   "execution_count": 3,
   "metadata": {},
   "outputs": [
    {
     "data": {
      "text/html": [
       "<div>\n",
       "<style scoped>\n",
       "    .dataframe tbody tr th:only-of-type {\n",
       "        vertical-align: middle;\n",
       "    }\n",
       "\n",
       "    .dataframe tbody tr th {\n",
       "        vertical-align: top;\n",
       "    }\n",
       "\n",
       "    .dataframe thead th {\n",
       "        text-align: right;\n",
       "    }\n",
       "</style>\n",
       "<table border=\"1\" class=\"dataframe\">\n",
       "  <thead>\n",
       "    <tr style=\"text-align: right;\">\n",
       "      <th></th>\n",
       "      <th>pageurl</th>\n",
       "      <th>crawl_timestamp</th>\n",
       "      <th>job_title</th>\n",
       "      <th>category</th>\n",
       "      <th>company_name</th>\n",
       "      <th>city</th>\n",
       "      <th>post_date</th>\n",
       "      <th>job_description</th>\n",
       "      <th>job_type</th>\n",
       "      <th>job_board</th>\n",
       "      <th>geo</th>\n",
       "      <th>state</th>\n",
       "      <th>salary_offered</th>\n",
       "    </tr>\n",
       "  </thead>\n",
       "  <tbody>\n",
       "    <tr>\n",
       "      <th>0</th>\n",
       "      <td>https://www.seek.com.au/job/36028685</td>\n",
       "      <td>2018-04-20 03:57:04 +0000</td>\n",
       "      <td>Package Lead - Pipeline Installation</td>\n",
       "      <td>Mining, Resources &amp; Energy</td>\n",
       "      <td>FIRCROFT AUSTRALIA PTY LTD</td>\n",
       "      <td>Perth</td>\n",
       "      <td>2018-04-19T05:41:52Z</td>\n",
       "      <td>The Role: General Execution Accountable for sa...</td>\n",
       "      <td>Contract/Temp</td>\n",
       "      <td>seek</td>\n",
       "      <td>AU</td>\n",
       "      <td>NaN</td>\n",
       "      <td>NaN</td>\n",
       "    </tr>\n",
       "    <tr>\n",
       "      <th>1</th>\n",
       "      <td>https://www.seek.com.au/job/36028693</td>\n",
       "      <td>2018-04-20 03:52:46 +0000</td>\n",
       "      <td>Department Manager - Bakery - Campbelltown Region</td>\n",
       "      <td>Retail &amp; Consumer Products</td>\n",
       "      <td>Coles</td>\n",
       "      <td>Sydney</td>\n",
       "      <td>2018-04-19T05:42:19Z</td>\n",
       "      <td>The role As a Coles Bakery Manager you will: w...</td>\n",
       "      <td>Full Time</td>\n",
       "      <td>seek</td>\n",
       "      <td>AU</td>\n",
       "      <td>South West &amp; M5 Corridor</td>\n",
       "      <td>NaN</td>\n",
       "    </tr>\n",
       "    <tr>\n",
       "      <th>2</th>\n",
       "      <td>https://www.seek.com.au/job/36027858</td>\n",
       "      <td>2018-04-20 04:12:01 +0000</td>\n",
       "      <td>Freight Handler</td>\n",
       "      <td>Manufacturing, Transport &amp; Logistics</td>\n",
       "      <td>Zoom Recruitment &amp; Training</td>\n",
       "      <td>Sydney</td>\n",
       "      <td>2018-04-19T04:51:51Z</td>\n",
       "      <td>Our client is a leader within the Transport / ...</td>\n",
       "      <td>Casual/Vacation</td>\n",
       "      <td>seek</td>\n",
       "      <td>AU</td>\n",
       "      <td>Parramatta &amp; Western Suburbs</td>\n",
       "      <td>$34 - $39 p.h.</td>\n",
       "    </tr>\n",
       "    <tr>\n",
       "      <th>3</th>\n",
       "      <td>https://www.seek.com.au/job/36028687</td>\n",
       "      <td>2018-04-20 03:51:23 +0000</td>\n",
       "      <td>Warehouse Assistant</td>\n",
       "      <td>Manufacturing, Transport &amp; Logistics</td>\n",
       "      <td>Private Advertiser</td>\n",
       "      <td>Bundaberg &amp; Wide Bay Burnett</td>\n",
       "      <td>2018-04-19T05:42:02Z</td>\n",
       "      <td>One of our Clients is looking for a Warehouse ...</td>\n",
       "      <td>Full Time</td>\n",
       "      <td>seek</td>\n",
       "      <td>AU</td>\n",
       "      <td>NaN</td>\n",
       "      <td>NaN</td>\n",
       "    </tr>\n",
       "    <tr>\n",
       "      <th>4</th>\n",
       "      <td>https://www.seek.com.au/job/36026414</td>\n",
       "      <td>2018-04-20 04:14:42 +0000</td>\n",
       "      <td>HR Truck Subcontractors</td>\n",
       "      <td>Manufacturing, Transport &amp; Logistics</td>\n",
       "      <td>Sands Fridge Lines</td>\n",
       "      <td>Perth</td>\n",
       "      <td>2018-04-19T03:22:40Z</td>\n",
       "      <td>Sands Fridge Lines WA is seeking Subcontractor...</td>\n",
       "      <td>Contract/Temp</td>\n",
       "      <td>seek</td>\n",
       "      <td>AU</td>\n",
       "      <td>NaN</td>\n",
       "      <td>NaN</td>\n",
       "    </tr>\n",
       "  </tbody>\n",
       "</table>\n",
       "</div>"
      ],
      "text/plain": [
       "                                pageurl            crawl_timestamp  \\\n",
       "0  https://www.seek.com.au/job/36028685  2018-04-20 03:57:04 +0000   \n",
       "1  https://www.seek.com.au/job/36028693  2018-04-20 03:52:46 +0000   \n",
       "2  https://www.seek.com.au/job/36027858  2018-04-20 04:12:01 +0000   \n",
       "3  https://www.seek.com.au/job/36028687  2018-04-20 03:51:23 +0000   \n",
       "4  https://www.seek.com.au/job/36026414  2018-04-20 04:14:42 +0000   \n",
       "\n",
       "                                           job_title  \\\n",
       "0               Package Lead - Pipeline Installation   \n",
       "1  Department Manager - Bakery - Campbelltown Region   \n",
       "2                                    Freight Handler   \n",
       "3                                Warehouse Assistant   \n",
       "4                            HR Truck Subcontractors   \n",
       "\n",
       "                               category                 company_name  \\\n",
       "0            Mining, Resources & Energy   FIRCROFT AUSTRALIA PTY LTD   \n",
       "1            Retail & Consumer Products                        Coles   \n",
       "2  Manufacturing, Transport & Logistics  Zoom Recruitment & Training   \n",
       "3  Manufacturing, Transport & Logistics           Private Advertiser   \n",
       "4  Manufacturing, Transport & Logistics           Sands Fridge Lines   \n",
       "\n",
       "                           city             post_date  \\\n",
       "0                         Perth  2018-04-19T05:41:52Z   \n",
       "1                        Sydney  2018-04-19T05:42:19Z   \n",
       "2                        Sydney  2018-04-19T04:51:51Z   \n",
       "3  Bundaberg & Wide Bay Burnett  2018-04-19T05:42:02Z   \n",
       "4                         Perth  2018-04-19T03:22:40Z   \n",
       "\n",
       "                                     job_description         job_type  \\\n",
       "0  The Role: General Execution Accountable for sa...    Contract/Temp   \n",
       "1  The role As a Coles Bakery Manager you will: w...        Full Time   \n",
       "2  Our client is a leader within the Transport / ...  Casual/Vacation   \n",
       "3  One of our Clients is looking for a Warehouse ...        Full Time   \n",
       "4  Sands Fridge Lines WA is seeking Subcontractor...    Contract/Temp   \n",
       "\n",
       "  job_board geo                         state  salary_offered  \n",
       "0      seek  AU                           NaN             NaN  \n",
       "1      seek  AU      South West & M5 Corridor             NaN  \n",
       "2      seek  AU  Parramatta & Western Suburbs  $34 - $39 p.h.  \n",
       "3      seek  AU                           NaN             NaN  \n",
       "4      seek  AU                           NaN             NaN  "
      ]
     },
     "execution_count": 3,
     "metadata": {},
     "output_type": "execute_result"
    }
   ],
   "source": [
    "zf = zipfile.ZipFile('data/australian-job-listings-data-from-seek-job-board.zip') \n",
    "df = pd.read_csv(zf.open('seek_australia_sample.csv'), encoding='latin')\n",
    "df.head()"
   ]
  },
  {
   "cell_type": "code",
   "execution_count": 4,
   "metadata": {},
   "outputs": [
    {
     "data": {
      "text/html": [
       "<div>\n",
       "<style scoped>\n",
       "    .dataframe tbody tr th:only-of-type {\n",
       "        vertical-align: middle;\n",
       "    }\n",
       "\n",
       "    .dataframe tbody tr th {\n",
       "        vertical-align: top;\n",
       "    }\n",
       "\n",
       "    .dataframe thead th {\n",
       "        text-align: right;\n",
       "    }\n",
       "</style>\n",
       "<table border=\"1\" class=\"dataframe\">\n",
       "  <thead>\n",
       "    <tr style=\"text-align: right;\">\n",
       "      <th></th>\n",
       "      <th>pageurl</th>\n",
       "      <th>crawl_timestamp</th>\n",
       "      <th>job_title</th>\n",
       "      <th>category</th>\n",
       "      <th>company_name</th>\n",
       "      <th>city</th>\n",
       "      <th>post_date</th>\n",
       "      <th>job_description</th>\n",
       "      <th>job_type</th>\n",
       "      <th>job_board</th>\n",
       "      <th>geo</th>\n",
       "      <th>state</th>\n",
       "      <th>salary_offered</th>\n",
       "      <th>date</th>\n",
       "    </tr>\n",
       "  </thead>\n",
       "  <tbody>\n",
       "    <tr>\n",
       "      <th>0</th>\n",
       "      <td>https://www.seek.com.au/job/36028685</td>\n",
       "      <td>2018-04-20 03:57:04 +0000</td>\n",
       "      <td>Package Lead - Pipeline Installation</td>\n",
       "      <td>Mining, Resources &amp; Energy</td>\n",
       "      <td>FIRCROFT AUSTRALIA PTY LTD</td>\n",
       "      <td>Perth</td>\n",
       "      <td>2018-04-19 05:41:52+00:00</td>\n",
       "      <td>The Role: General Execution Accountable for sa...</td>\n",
       "      <td>Contract/Temp</td>\n",
       "      <td>seek</td>\n",
       "      <td>AU</td>\n",
       "      <td>NaN</td>\n",
       "      <td>NaN</td>\n",
       "      <td>2018-04-19</td>\n",
       "    </tr>\n",
       "    <tr>\n",
       "      <th>1</th>\n",
       "      <td>https://www.seek.com.au/job/36028693</td>\n",
       "      <td>2018-04-20 03:52:46 +0000</td>\n",
       "      <td>Department Manager - Bakery - Campbelltown Region</td>\n",
       "      <td>Retail &amp; Consumer Products</td>\n",
       "      <td>Coles</td>\n",
       "      <td>Sydney</td>\n",
       "      <td>2018-04-19 05:42:19+00:00</td>\n",
       "      <td>The role As a Coles Bakery Manager you will: w...</td>\n",
       "      <td>Full Time</td>\n",
       "      <td>seek</td>\n",
       "      <td>AU</td>\n",
       "      <td>South West &amp; M5 Corridor</td>\n",
       "      <td>NaN</td>\n",
       "      <td>2018-04-19</td>\n",
       "    </tr>\n",
       "    <tr>\n",
       "      <th>2</th>\n",
       "      <td>https://www.seek.com.au/job/36027858</td>\n",
       "      <td>2018-04-20 04:12:01 +0000</td>\n",
       "      <td>Freight Handler</td>\n",
       "      <td>Manufacturing, Transport &amp; Logistics</td>\n",
       "      <td>Zoom Recruitment &amp; Training</td>\n",
       "      <td>Sydney</td>\n",
       "      <td>2018-04-19 04:51:51+00:00</td>\n",
       "      <td>Our client is a leader within the Transport / ...</td>\n",
       "      <td>Casual/Vacation</td>\n",
       "      <td>seek</td>\n",
       "      <td>AU</td>\n",
       "      <td>Parramatta &amp; Western Suburbs</td>\n",
       "      <td>$34 - $39 p.h.</td>\n",
       "      <td>2018-04-19</td>\n",
       "    </tr>\n",
       "    <tr>\n",
       "      <th>3</th>\n",
       "      <td>https://www.seek.com.au/job/36028687</td>\n",
       "      <td>2018-04-20 03:51:23 +0000</td>\n",
       "      <td>Warehouse Assistant</td>\n",
       "      <td>Manufacturing, Transport &amp; Logistics</td>\n",
       "      <td>Private Advertiser</td>\n",
       "      <td>Bundaberg &amp; Wide Bay Burnett</td>\n",
       "      <td>2018-04-19 05:42:02+00:00</td>\n",
       "      <td>One of our Clients is looking for a Warehouse ...</td>\n",
       "      <td>Full Time</td>\n",
       "      <td>seek</td>\n",
       "      <td>AU</td>\n",
       "      <td>NaN</td>\n",
       "      <td>NaN</td>\n",
       "      <td>2018-04-19</td>\n",
       "    </tr>\n",
       "    <tr>\n",
       "      <th>4</th>\n",
       "      <td>https://www.seek.com.au/job/36026414</td>\n",
       "      <td>2018-04-20 04:14:42 +0000</td>\n",
       "      <td>HR Truck Subcontractors</td>\n",
       "      <td>Manufacturing, Transport &amp; Logistics</td>\n",
       "      <td>Sands Fridge Lines</td>\n",
       "      <td>Perth</td>\n",
       "      <td>2018-04-19 03:22:40+00:00</td>\n",
       "      <td>Sands Fridge Lines WA is seeking Subcontractor...</td>\n",
       "      <td>Contract/Temp</td>\n",
       "      <td>seek</td>\n",
       "      <td>AU</td>\n",
       "      <td>NaN</td>\n",
       "      <td>NaN</td>\n",
       "      <td>2018-04-19</td>\n",
       "    </tr>\n",
       "  </tbody>\n",
       "</table>\n",
       "</div>"
      ],
      "text/plain": [
       "                                pageurl            crawl_timestamp  \\\n",
       "0  https://www.seek.com.au/job/36028685  2018-04-20 03:57:04 +0000   \n",
       "1  https://www.seek.com.au/job/36028693  2018-04-20 03:52:46 +0000   \n",
       "2  https://www.seek.com.au/job/36027858  2018-04-20 04:12:01 +0000   \n",
       "3  https://www.seek.com.au/job/36028687  2018-04-20 03:51:23 +0000   \n",
       "4  https://www.seek.com.au/job/36026414  2018-04-20 04:14:42 +0000   \n",
       "\n",
       "                                           job_title  \\\n",
       "0               Package Lead - Pipeline Installation   \n",
       "1  Department Manager - Bakery - Campbelltown Region   \n",
       "2                                    Freight Handler   \n",
       "3                                Warehouse Assistant   \n",
       "4                            HR Truck Subcontractors   \n",
       "\n",
       "                               category                 company_name  \\\n",
       "0            Mining, Resources & Energy   FIRCROFT AUSTRALIA PTY LTD   \n",
       "1            Retail & Consumer Products                        Coles   \n",
       "2  Manufacturing, Transport & Logistics  Zoom Recruitment & Training   \n",
       "3  Manufacturing, Transport & Logistics           Private Advertiser   \n",
       "4  Manufacturing, Transport & Logistics           Sands Fridge Lines   \n",
       "\n",
       "                           city                 post_date  \\\n",
       "0                         Perth 2018-04-19 05:41:52+00:00   \n",
       "1                        Sydney 2018-04-19 05:42:19+00:00   \n",
       "2                        Sydney 2018-04-19 04:51:51+00:00   \n",
       "3  Bundaberg & Wide Bay Burnett 2018-04-19 05:42:02+00:00   \n",
       "4                         Perth 2018-04-19 03:22:40+00:00   \n",
       "\n",
       "                                     job_description         job_type  \\\n",
       "0  The Role: General Execution Accountable for sa...    Contract/Temp   \n",
       "1  The role As a Coles Bakery Manager you will: w...        Full Time   \n",
       "2  Our client is a leader within the Transport / ...  Casual/Vacation   \n",
       "3  One of our Clients is looking for a Warehouse ...        Full Time   \n",
       "4  Sands Fridge Lines WA is seeking Subcontractor...    Contract/Temp   \n",
       "\n",
       "  job_board geo                         state  salary_offered       date  \n",
       "0      seek  AU                           NaN             NaN 2018-04-19  \n",
       "1      seek  AU      South West & M5 Corridor             NaN 2018-04-19  \n",
       "2      seek  AU  Parramatta & Western Suburbs  $34 - $39 p.h. 2018-04-19  \n",
       "3      seek  AU                           NaN             NaN 2018-04-19  \n",
       "4      seek  AU                           NaN             NaN 2018-04-19  "
      ]
     },
     "execution_count": 4,
     "metadata": {},
     "output_type": "execute_result"
    }
   ],
   "source": [
    "df.shape\n",
    "df['post_date'].dtype\n",
    "df['post_date'] = pd.to_datetime(df['post_date'])\n",
    "df['date'] = df['post_date'].dt.date\n",
    "df['date'] = pd.to_datetime(df['date'])\n",
    "df.head()\n",
    "# df.dtypes"
   ]
  },
  {
   "cell_type": "code",
   "execution_count": 5,
   "metadata": {},
   "outputs": [],
   "source": [
    "# df['month_year'] = pd.to_datetime(df['date']).dt.to_period('M')\n",
    "# df.head()"
   ]
  },
  {
   "cell_type": "code",
   "execution_count": 6,
   "metadata": {},
   "outputs": [
    {
     "data": {
      "text/plain": [
       "project manager                 77\n",
       "business development manager    71\n",
       "business analyst                55\n",
       "receptionist                    52\n",
       "administration assistant        52\n",
       "Name: job_title, dtype: int64"
      ]
     },
     "execution_count": 6,
     "metadata": {},
     "output_type": "execute_result"
    }
   ],
   "source": [
    "df.job_title.str.lower().value_counts().head()"
   ]
  },
  {
   "cell_type": "code",
   "execution_count": 7,
   "metadata": {},
   "outputs": [],
   "source": [
    "def scatter_plot(name, data):\n",
    "    data['date'] = data.index\n",
    "    ax = plt.subplot()\n",
    "#     month_fmt = mdates.DateFormatter('%M')\n",
    "    plt.plot('date', 'job_title', data=data, color='green', marker='o')\n",
    "    ax.xaxis_date()\n",
    "    ax.xaxis.set_major_formatter(mdates.DateFormatter(\"%Y-%m\"))\n",
    "#     ax.xaxis.set_minor_formatter(mdates.DateFormatter(\"%Y-%m\"))\n",
    "    _=plt.xticks(rotation=45)\n",
    "    plt.ylabel('Number of vacancies')\n",
    "    plt.grid()\n",
    "    plt.title(name)\n",
    "    return (plt.savefig(\"results/\" + name + \".png\", bbox_inches='tight'), plt.show())"
   ]
  },
  {
   "cell_type": "code",
   "execution_count": 8,
   "metadata": {},
   "outputs": [
    {
     "name": "stdout",
     "output_type": "stream",
     "text": [
      "(180, 14)\n"
     ]
    },
    {
     "data": {
      "text/html": [
       "<div>\n",
       "<style scoped>\n",
       "    .dataframe tbody tr th:only-of-type {\n",
       "        vertical-align: middle;\n",
       "    }\n",
       "\n",
       "    .dataframe tbody tr th {\n",
       "        vertical-align: top;\n",
       "    }\n",
       "\n",
       "    .dataframe thead th {\n",
       "        text-align: right;\n",
       "    }\n",
       "</style>\n",
       "<table border=\"1\" class=\"dataframe\">\n",
       "  <thead>\n",
       "    <tr style=\"text-align: right;\">\n",
       "      <th></th>\n",
       "      <th>pageurl</th>\n",
       "      <th>crawl_timestamp</th>\n",
       "      <th>job_title</th>\n",
       "      <th>category</th>\n",
       "      <th>company_name</th>\n",
       "      <th>city</th>\n",
       "      <th>post_date</th>\n",
       "      <th>job_description</th>\n",
       "      <th>job_type</th>\n",
       "      <th>job_board</th>\n",
       "      <th>geo</th>\n",
       "      <th>state</th>\n",
       "      <th>salary_offered</th>\n",
       "      <th>date</th>\n",
       "    </tr>\n",
       "  </thead>\n",
       "  <tbody>\n",
       "    <tr>\n",
       "      <th>198</th>\n",
       "      <td>https://www.seek.com.au/job/36027704</td>\n",
       "      <td>2018-04-20 04:04:19 +0000</td>\n",
       "      <td>Project Manager - Wealth Management</td>\n",
       "      <td>Information &amp; Communication Technology</td>\n",
       "      <td>Evolution Specialists</td>\n",
       "      <td>Sydney</td>\n",
       "      <td>2018-04-19 04:43:09+00:00</td>\n",
       "      <td>Project Manager - Business Process Management ...</td>\n",
       "      <td>Contract/Temp</td>\n",
       "      <td>seek</td>\n",
       "      <td>AU</td>\n",
       "      <td>CBD, Inner West &amp; Eastern Suburbs</td>\n",
       "      <td>NaN</td>\n",
       "      <td>2018-04-19</td>\n",
       "    </tr>\n",
       "    <tr>\n",
       "      <th>456</th>\n",
       "      <td>https://www.seek.com.au/job/36025966</td>\n",
       "      <td>2018-04-20 04:15:38 +0000</td>\n",
       "      <td>Project Manager</td>\n",
       "      <td>Real Estate &amp; Property</td>\n",
       "      <td>Gough Property &amp; Real Estate Recruiters</td>\n",
       "      <td>Brisbane</td>\n",
       "      <td>2018-04-19 02:45:34+00:00</td>\n",
       "      <td>Our client is a leading national property comp...</td>\n",
       "      <td>Full Time</td>\n",
       "      <td>seek</td>\n",
       "      <td>AU</td>\n",
       "      <td>CBD &amp; Inner Suburbs</td>\n",
       "      <td>NaN</td>\n",
       "      <td>2018-04-19</td>\n",
       "    </tr>\n",
       "    <tr>\n",
       "      <th>689</th>\n",
       "      <td>https://www.seek.com.au/job/36027432</td>\n",
       "      <td>2018-04-20 04:06:13 +0000</td>\n",
       "      <td>Project Manager - Retail &amp; Commercial Projects</td>\n",
       "      <td>Construction</td>\n",
       "      <td>BLACK &amp; CO RECRUITMENT PTY LTD</td>\n",
       "      <td>Sydney</td>\n",
       "      <td>2018-04-19 04:27:02+00:00</td>\n",
       "      <td>Contracts Administrator - Retail &amp; Commercial ...</td>\n",
       "      <td>Full Time</td>\n",
       "      <td>seek</td>\n",
       "      <td>AU</td>\n",
       "      <td>Parramatta &amp; Western Suburbs</td>\n",
       "      <td>$140,000 - $160,000</td>\n",
       "      <td>2018-04-19</td>\n",
       "    </tr>\n",
       "  </tbody>\n",
       "</table>\n",
       "</div>"
      ],
      "text/plain": [
       "                                  pageurl            crawl_timestamp  \\\n",
       "198  https://www.seek.com.au/job/36027704  2018-04-20 04:04:19 +0000   \n",
       "456  https://www.seek.com.au/job/36025966  2018-04-20 04:15:38 +0000   \n",
       "689  https://www.seek.com.au/job/36027432  2018-04-20 04:06:13 +0000   \n",
       "\n",
       "                                          job_title  \\\n",
       "198             Project Manager - Wealth Management   \n",
       "456                                 Project Manager   \n",
       "689  Project Manager - Retail & Commercial Projects   \n",
       "\n",
       "                                   category  \\\n",
       "198  Information & Communication Technology   \n",
       "456                  Real Estate & Property   \n",
       "689                            Construction   \n",
       "\n",
       "                                company_name      city  \\\n",
       "198                    Evolution Specialists    Sydney   \n",
       "456  Gough Property & Real Estate Recruiters  Brisbane   \n",
       "689           BLACK & CO RECRUITMENT PTY LTD    Sydney   \n",
       "\n",
       "                    post_date  \\\n",
       "198 2018-04-19 04:43:09+00:00   \n",
       "456 2018-04-19 02:45:34+00:00   \n",
       "689 2018-04-19 04:27:02+00:00   \n",
       "\n",
       "                                       job_description       job_type  \\\n",
       "198  Project Manager - Business Process Management ...  Contract/Temp   \n",
       "456  Our client is a leading national property comp...      Full Time   \n",
       "689  Contracts Administrator - Retail & Commercial ...      Full Time   \n",
       "\n",
       "    job_board geo                              state       salary_offered  \\\n",
       "198      seek  AU  CBD, Inner West & Eastern Suburbs                  NaN   \n",
       "456      seek  AU                CBD & Inner Suburbs                  NaN   \n",
       "689      seek  AU       Parramatta & Western Suburbs  $140,000 - $160,000   \n",
       "\n",
       "          date  \n",
       "198 2018-04-19  \n",
       "456 2018-04-19  \n",
       "689 2018-04-19  "
      ]
     },
     "execution_count": 8,
     "metadata": {},
     "output_type": "execute_result"
    }
   ],
   "source": [
    "df_project_manager = df[df['job_title'].str.match('project manager', flags=re.IGNORECASE)]\n",
    "print(df_project_manager.shape)\n",
    "df_project_manager.head(3)"
   ]
  },
  {
   "cell_type": "code",
   "execution_count": 9,
   "metadata": {},
   "outputs": [
    {
     "data": {
      "text/html": [
       "<div>\n",
       "<style scoped>\n",
       "    .dataframe tbody tr th:only-of-type {\n",
       "        vertical-align: middle;\n",
       "    }\n",
       "\n",
       "    .dataframe tbody tr th {\n",
       "        vertical-align: top;\n",
       "    }\n",
       "\n",
       "    .dataframe thead th {\n",
       "        text-align: right;\n",
       "    }\n",
       "</style>\n",
       "<table border=\"1\" class=\"dataframe\">\n",
       "  <thead>\n",
       "    <tr style=\"text-align: right;\">\n",
       "      <th></th>\n",
       "      <th>job_title</th>\n",
       "    </tr>\n",
       "    <tr>\n",
       "      <th>date</th>\n",
       "      <th></th>\n",
       "    </tr>\n",
       "  </thead>\n",
       "  <tbody>\n",
       "    <tr>\n",
       "      <th>2018-04-30</th>\n",
       "      <td>22</td>\n",
       "    </tr>\n",
       "    <tr>\n",
       "      <th>2018-05-31</th>\n",
       "      <td>24</td>\n",
       "    </tr>\n",
       "    <tr>\n",
       "      <th>2018-06-30</th>\n",
       "      <td>37</td>\n",
       "    </tr>\n",
       "    <tr>\n",
       "      <th>2018-07-31</th>\n",
       "      <td>29</td>\n",
       "    </tr>\n",
       "    <tr>\n",
       "      <th>2018-08-31</th>\n",
       "      <td>3</td>\n",
       "    </tr>\n",
       "    <tr>\n",
       "      <th>2018-09-30</th>\n",
       "      <td>19</td>\n",
       "    </tr>\n",
       "    <tr>\n",
       "      <th>2018-10-31</th>\n",
       "      <td>39</td>\n",
       "    </tr>\n",
       "    <tr>\n",
       "      <th>2018-11-30</th>\n",
       "      <td>7</td>\n",
       "    </tr>\n",
       "  </tbody>\n",
       "</table>\n",
       "</div>"
      ],
      "text/plain": [
       "            job_title\n",
       "date                 \n",
       "2018-04-30         22\n",
       "2018-05-31         24\n",
       "2018-06-30         37\n",
       "2018-07-31         29\n",
       "2018-08-31          3\n",
       "2018-09-30         19\n",
       "2018-10-31         39\n",
       "2018-11-30          7"
      ]
     },
     "execution_count": 9,
     "metadata": {},
     "output_type": "execute_result"
    }
   ],
   "source": [
    "# df_project_manager.dtypes\n",
    "df_project_manager_resample_M = df_project_manager.resample('M', on='date').count()\n",
    "df_project_manager_resample_M[['job_title']]\n",
    "# df_project_manager_resample_M"
   ]
  },
  {
   "cell_type": "code",
   "execution_count": 10,
   "metadata": {},
   "outputs": [],
   "source": [
    "# df_project_manager_resample_M['date'] = df_project_manager_resample_M.index\n",
    "# # df_project_manager_resample_M.reset_index(level=0, inplace=True)\n",
    "# df_project_manager_resample_M\n",
    "\n",
    "# ax = plt.subplot()\n",
    "# month_fmt = mdates.DateFormatter('%M')\n",
    "# plt.scatter(x='date', y='job_title', data=df_project_manager_resample_M, color='green')\n",
    "# ax.xaxis.set_major_formatter(mdates.DateFormatter(\"%Y-%m\"))\n",
    "# ax.xaxis.set_minor_formatter(mdates.DateFormatter(\"%Y-%m\"))\n",
    "# _=plt.xticks(rotation=90)\n",
    "# plt.ylabel('Number of vacancies')\n",
    "# plt.title('Project managers')\n",
    "# plt.grid()\n",
    "# plt.show()\n",
    "# # df_project_manager_resample_M.plot(y='job_title', use_index=True, kind='scatter')\n"
   ]
  },
  {
   "cell_type": "code",
   "execution_count": 11,
   "metadata": {},
   "outputs": [
    {
     "data": {
      "image/png": "[encoded data removed]",
      "text/plain": [
       "<Figure size 432x288 with 1 Axes>"
      ]
     },
     "metadata": {
      "needs_background": "light"
     },
     "output_type": "display_data"
    },
    {
     "data": {
      "text/plain": [
       "(None, None)"
      ]
     },
     "execution_count": 11,
     "metadata": {},
     "output_type": "execute_result"
    }
   ],
   "source": [
    "scatter_plot('Project managers', df_project_manager_resample_M)"
   ]
  },
  {
   "cell_type": "code",
   "execution_count": 12,
   "metadata": {},
   "outputs": [],
   "source": [
    "# df_project_manager['month_year'].value_counts()\n",
    "# df_project_manager = df_project_manager.sort_values('month_year')\n",
    "# print(df_project_manager['month_year'].value_counts(sort=False))\n",
    "\n",
    "# height = df_project_manager['month_year'].value_counts(sort=False).tolist()\n",
    "# bars = df_project_manager['month_year'].unique()\n",
    "# x_pos = np.arange(len(bars))\n",
    "\n",
    "# fig = plt.gcf()\n",
    "# fig.set_size_inches(18.5, 10.5)\n",
    "# # print (height, '\\n', bars)\n",
    "# plt.bar(x_pos, height)\n",
    "# plt.xticks(x_pos, bars)\n",
    "# # plt.bar(df_project_manager['month_year'])\n",
    "# plt.show()"
   ]
  },
  {
   "cell_type": "code",
   "execution_count": 13,
   "metadata": {},
   "outputs": [],
   "source": [
    "# # ax = sns.scatterplot(x=bars, y=height)\n",
    "# print (height, '\\n', bars)\n",
    "\n",
    "# # dates = [pd.to_datetime(d) for d in bars]\n",
    "# # plt.scatter(bars, height)\n",
    "# # plt.plot_date(bars, height, c = 'red')\n",
    "# # plt.show()\n",
    "# # print(dates)"
   ]
  },
  {
   "cell_type": "code",
   "execution_count": 14,
   "metadata": {},
   "outputs": [
    {
     "data": {
      "text/html": [
       "<div>\n",
       "<style scoped>\n",
       "    .dataframe tbody tr th:only-of-type {\n",
       "        vertical-align: middle;\n",
       "    }\n",
       "\n",
       "    .dataframe tbody tr th {\n",
       "        vertical-align: top;\n",
       "    }\n",
       "\n",
       "    .dataframe thead th {\n",
       "        text-align: right;\n",
       "    }\n",
       "</style>\n",
       "<table border=\"1\" class=\"dataframe\">\n",
       "  <thead>\n",
       "    <tr style=\"text-align: right;\">\n",
       "      <th></th>\n",
       "      <th>pageurl</th>\n",
       "      <th>crawl_timestamp</th>\n",
       "      <th>job_title</th>\n",
       "      <th>category</th>\n",
       "      <th>company_name</th>\n",
       "      <th>city</th>\n",
       "      <th>post_date</th>\n",
       "      <th>job_description</th>\n",
       "      <th>job_type</th>\n",
       "      <th>job_board</th>\n",
       "      <th>geo</th>\n",
       "      <th>state</th>\n",
       "      <th>salary_offered</th>\n",
       "      <th>date</th>\n",
       "    </tr>\n",
       "  </thead>\n",
       "  <tbody>\n",
       "    <tr>\n",
       "      <th>25</th>\n",
       "      <td>https://www.seek.com.au/job/36026236</td>\n",
       "      <td>2018-04-20 04:13:14 +0000</td>\n",
       "      <td>Business Development Manager</td>\n",
       "      <td>Sales</td>\n",
       "      <td>National Distribution Centre Services</td>\n",
       "      <td>Sydney</td>\n",
       "      <td>2018-04-19 03:07:16+00:00</td>\n",
       "      <td>Business Development Manager   We are an Austr...</td>\n",
       "      <td>Full Time</td>\n",
       "      <td>seek</td>\n",
       "      <td>AU</td>\n",
       "      <td>CBD, Inner West &amp; Eastern Suburbs</td>\n",
       "      <td>NaN</td>\n",
       "      <td>2018-04-19</td>\n",
       "    </tr>\n",
       "    <tr>\n",
       "      <th>265</th>\n",
       "      <td>https://www.seek.com.au/job/36026003</td>\n",
       "      <td>2018-04-20 04:16:50 +0000</td>\n",
       "      <td>Business Development Manager</td>\n",
       "      <td>Insurance &amp; Superannuation</td>\n",
       "      <td>Robert Walters</td>\n",
       "      <td>Perth</td>\n",
       "      <td>2018-04-19 02:46:28+00:00</td>\n",
       "      <td>Located within minutes of the Perth CBD, this ...</td>\n",
       "      <td>Full Time</td>\n",
       "      <td>seek</td>\n",
       "      <td>AU</td>\n",
       "      <td>CBD, Inner &amp; Western Suburbs</td>\n",
       "      <td>Competitive Salary</td>\n",
       "      <td>2018-04-19</td>\n",
       "    </tr>\n",
       "    <tr>\n",
       "      <th>508</th>\n",
       "      <td>https://www.seek.com.au/job/36027545</td>\n",
       "      <td>2018-04-20 04:10:16 +0000</td>\n",
       "      <td>Business Development Manager</td>\n",
       "      <td>Sales</td>\n",
       "      <td>Randstad - Sales, Marketing &amp; Communications</td>\n",
       "      <td>Sydney</td>\n",
       "      <td>2018-04-19 04:32:20+00:00</td>\n",
       "      <td>You will be calling customers who have Cell To...</td>\n",
       "      <td>Full Time</td>\n",
       "      <td>seek</td>\n",
       "      <td>AU</td>\n",
       "      <td>CBD, Inner West &amp; Eastern Suburbs</td>\n",
       "      <td>$75k - $95k p.a. + Super + Commission</td>\n",
       "      <td>2018-04-19</td>\n",
       "    </tr>\n",
       "    <tr>\n",
       "      <th>570</th>\n",
       "      <td>https://www.seek.com.au/job/36027757</td>\n",
       "      <td>2018-04-20 04:11:31 +0000</td>\n",
       "      <td>Business Development Manager - Canberra - Defence</td>\n",
       "      <td>Sales</td>\n",
       "      <td>Serco Asia Pacific</td>\n",
       "      <td>Sydney</td>\n",
       "      <td>2018-04-19 04:45:32+00:00</td>\n",
       "      <td>Serco is an extraordinary company, making a po...</td>\n",
       "      <td>Full Time</td>\n",
       "      <td>seek</td>\n",
       "      <td>AU</td>\n",
       "      <td>CBD, Inner West &amp; Eastern Suburbs</td>\n",
       "      <td>Highly competitive salary package on offer in ACT</td>\n",
       "      <td>2018-04-19</td>\n",
       "    </tr>\n",
       "    <tr>\n",
       "      <th>592</th>\n",
       "      <td>https://www.seek.com.au/job/36028884</td>\n",
       "      <td>2018-04-20 03:53:17 +0000</td>\n",
       "      <td>Business Development Manager</td>\n",
       "      <td>Sales</td>\n",
       "      <td>Shelby Consulting</td>\n",
       "      <td>Perth</td>\n",
       "      <td>2018-04-19 05:51:55+00:00</td>\n",
       "      <td>An opportunity exists for an experienced and p...</td>\n",
       "      <td>Casual/Vacation</td>\n",
       "      <td>seek</td>\n",
       "      <td>AU</td>\n",
       "      <td>CBD, Inner &amp; Western Suburbs</td>\n",
       "      <td>NaN</td>\n",
       "      <td>2018-04-19</td>\n",
       "    </tr>\n",
       "  </tbody>\n",
       "</table>\n",
       "</div>"
      ],
      "text/plain": [
       "                                  pageurl            crawl_timestamp  \\\n",
       "25   https://www.seek.com.au/job/36026236  2018-04-20 04:13:14 +0000   \n",
       "265  https://www.seek.com.au/job/36026003  2018-04-20 04:16:50 +0000   \n",
       "508  https://www.seek.com.au/job/36027545  2018-04-20 04:10:16 +0000   \n",
       "570  https://www.seek.com.au/job/36027757  2018-04-20 04:11:31 +0000   \n",
       "592  https://www.seek.com.au/job/36028884  2018-04-20 03:53:17 +0000   \n",
       "\n",
       "                                             job_title  \\\n",
       "25                        Business Development Manager   \n",
       "265                       Business Development Manager   \n",
       "508                       Business Development Manager   \n",
       "570  Business Development Manager - Canberra - Defence   \n",
       "592                       Business Development Manager   \n",
       "\n",
       "                       category                                  company_name  \\\n",
       "25                        Sales         National Distribution Centre Services   \n",
       "265  Insurance & Superannuation                                Robert Walters   \n",
       "508                       Sales  Randstad - Sales, Marketing & Communications   \n",
       "570                       Sales                            Serco Asia Pacific   \n",
       "592                       Sales                             Shelby Consulting   \n",
       "\n",
       "       city                 post_date  \\\n",
       "25   Sydney 2018-04-19 03:07:16+00:00   \n",
       "265   Perth 2018-04-19 02:46:28+00:00   \n",
       "508  Sydney 2018-04-19 04:32:20+00:00   \n",
       "570  Sydney 2018-04-19 04:45:32+00:00   \n",
       "592   Perth 2018-04-19 05:51:55+00:00   \n",
       "\n",
       "                                       job_description         job_type  \\\n",
       "25   Business Development Manager   We are an Austr...        Full Time   \n",
       "265  Located within minutes of the Perth CBD, this ...        Full Time   \n",
       "508  You will be calling customers who have Cell To...        Full Time   \n",
       "570  Serco is an extraordinary company, making a po...        Full Time   \n",
       "592  An opportunity exists for an experienced and p...  Casual/Vacation   \n",
       "\n",
       "    job_board geo                              state  \\\n",
       "25       seek  AU  CBD, Inner West & Eastern Suburbs   \n",
       "265      seek  AU       CBD, Inner & Western Suburbs   \n",
       "508      seek  AU  CBD, Inner West & Eastern Suburbs   \n",
       "570      seek  AU  CBD, Inner West & Eastern Suburbs   \n",
       "592      seek  AU       CBD, Inner & Western Suburbs   \n",
       "\n",
       "                                        salary_offered       date  \n",
       "25                                                 NaN 2018-04-19  \n",
       "265                                 Competitive Salary 2018-04-19  \n",
       "508              $75k - $95k p.a. + Super + Commission 2018-04-19  \n",
       "570  Highly competitive salary package on offer in ACT 2018-04-19  \n",
       "592                                                NaN 2018-04-19  "
      ]
     },
     "execution_count": 14,
     "metadata": {},
     "output_type": "execute_result"
    }
   ],
   "source": [
    "df_business_dev_manager = df[df['job_title'].str.match('business development manager', flags=re.IGNORECASE)]\n",
    "df_business_dev_manager.head()\n",
    "# df_business_dev_manager.shape"
   ]
  },
  {
   "cell_type": "code",
   "execution_count": 15,
   "metadata": {},
   "outputs": [
    {
     "data": {
      "text/html": [
       "<div>\n",
       "<style scoped>\n",
       "    .dataframe tbody tr th:only-of-type {\n",
       "        vertical-align: middle;\n",
       "    }\n",
       "\n",
       "    .dataframe tbody tr th {\n",
       "        vertical-align: top;\n",
       "    }\n",
       "\n",
       "    .dataframe thead th {\n",
       "        text-align: right;\n",
       "    }\n",
       "</style>\n",
       "<table border=\"1\" class=\"dataframe\">\n",
       "  <thead>\n",
       "    <tr style=\"text-align: right;\">\n",
       "      <th></th>\n",
       "      <th>job_title</th>\n",
       "    </tr>\n",
       "    <tr>\n",
       "      <th>date</th>\n",
       "      <th></th>\n",
       "    </tr>\n",
       "  </thead>\n",
       "  <tbody>\n",
       "    <tr>\n",
       "      <th>2018-04-30</th>\n",
       "      <td>19</td>\n",
       "    </tr>\n",
       "    <tr>\n",
       "      <th>2018-05-31</th>\n",
       "      <td>9</td>\n",
       "    </tr>\n",
       "    <tr>\n",
       "      <th>2018-06-30</th>\n",
       "      <td>19</td>\n",
       "    </tr>\n",
       "    <tr>\n",
       "      <th>2018-07-31</th>\n",
       "      <td>13</td>\n",
       "    </tr>\n",
       "    <tr>\n",
       "      <th>2018-08-31</th>\n",
       "      <td>15</td>\n",
       "    </tr>\n",
       "    <tr>\n",
       "      <th>2018-09-30</th>\n",
       "      <td>17</td>\n",
       "    </tr>\n",
       "    <tr>\n",
       "      <th>2018-10-31</th>\n",
       "      <td>28</td>\n",
       "    </tr>\n",
       "    <tr>\n",
       "      <th>2018-11-30</th>\n",
       "      <td>5</td>\n",
       "    </tr>\n",
       "  </tbody>\n",
       "</table>\n",
       "</div>"
      ],
      "text/plain": [
       "            job_title\n",
       "date                 \n",
       "2018-04-30         19\n",
       "2018-05-31          9\n",
       "2018-06-30         19\n",
       "2018-07-31         13\n",
       "2018-08-31         15\n",
       "2018-09-30         17\n",
       "2018-10-31         28\n",
       "2018-11-30          5"
      ]
     },
     "execution_count": 15,
     "metadata": {},
     "output_type": "execute_result"
    }
   ],
   "source": [
    "df_business_dev_manager.dtypes\n",
    "df_business_dev_manager_resample_M = df_business_dev_manager.resample('M', on='date').count()\n",
    "df_business_dev_manager_resample_M[['job_title']]"
   ]
  },
  {
   "cell_type": "code",
   "execution_count": 16,
   "metadata": {},
   "outputs": [
    {
     "data": {
      "image/png": "[encoded data removed]",
      "text/plain": [
       "<Figure size 432x288 with 1 Axes>"
      ]
     },
     "metadata": {
      "needs_background": "light"
     },
     "output_type": "display_data"
    },
    {
     "data": {
      "text/plain": [
       "(None, None)"
      ]
     },
     "execution_count": 16,
     "metadata": {},
     "output_type": "execute_result"
    }
   ],
   "source": [
    "scatter_plot('Business developer managers', df_business_dev_manager_resample_M)"
   ]
  },
  {
   "cell_type": "code",
   "execution_count": 17,
   "metadata": {},
   "outputs": [],
   "source": [
    "# !pip install plotly"
   ]
  },
  {
   "cell_type": "code",
   "execution_count": 18,
   "metadata": {},
   "outputs": [],
   "source": [
    "# import plotly.graph_objects as go\n",
    "# import numpy as np\n",
    "\n",
    "# # x = np.arange(10)\n",
    "\n",
    "# fig = go.Figure(data=go.Scatter(x=df_business_dev_manager_resample_M['date'], y=df_business_dev_manager_resample_M['job_title']))\n",
    "# fig.show()"
   ]
  },
  {
   "cell_type": "code",
   "execution_count": 19,
   "metadata": {},
   "outputs": [
    {
     "data": {
      "image/png": "[encoded data removed]",
      "text/plain": [
       "<Figure size 432x288 with 1 Axes>"
      ]
     },
     "metadata": {
      "needs_background": "light"
     },
     "output_type": "display_data"
    }
   ],
   "source": [
    "# df_business_dev_manager_resample_M['date'] = df_business_dev_manager_resample_M.index\n",
    "# # df_business_dev_manager_resample_M.sort_index(inplace=True)\n",
    "# ax = plt.subplot()\n",
    "# # month_fmt = mdates.DateFormatter('%M')\n",
    "# plt.plot(x=df_business_dev_manager_resample_M['date'], y=df_business_dev_manager_resample_M['job_title'], color='green', marker='-o')\n",
    "# # ax.xaxis_date()\n",
    "# ax.xaxis.set_major_formatter(mdates.DateFormatter(\"%Y-%m\"))\n",
    "# # _=plt.xticks(rotation=90)\n",
    "# plt.xticks(rotation=45)\n",
    "# plt.ylabel('Number of vacancies')\n",
    "# plt.grid()\n",
    "# plt.title('Business developer managers')\n",
    "\n",
    "df_business_dev_manager_resample_M['date'] = df_business_dev_manager_resample_M.index\n",
    "ax = plt.subplot()\n",
    "#     month_fmt = mdates.DateFormatter('%M')\n",
    "# plt.scatter(x='date', y='job_title', data=df_business_dev_manager_resample_M, color='green')\n",
    "plt.plot('date', 'job_title', data=df_business_dev_manager_resample_M, color='green', marker='o')\n",
    "# ax.xaxis_date()\n",
    "ax.xaxis.set_major_formatter(mdates.DateFormatter(\"%Y-%m\"))\n",
    "#     ax.xaxis.set_minor_formatter(mdates.DateFormatter(\"%Y-%m\"))\n",
    "_=plt.xticks(rotation=45)\n",
    "plt.ylabel('Number of vacancies')\n",
    "plt.grid()\n",
    "plt.title('business_dev_manager')\n",
    "plt.show()"
   ]
  },
  {
   "cell_type": "code",
   "execution_count": 20,
   "metadata": {},
   "outputs": [],
   "source": [
    "# df_business_dev_manager_resample_M['date'].values"
   ]
  },
  {
   "cell_type": "code",
   "execution_count": 21,
   "metadata": {},
   "outputs": [],
   "source": [
    "# vals = list(zip(df_business_dev_manager_resample_M['date'].values, df_business_dev_manager_resample_M['job_title'].values))"
   ]
  },
  {
   "cell_type": "code",
   "execution_count": 22,
   "metadata": {},
   "outputs": [
    {
     "data": {
      "text/plain": [
       "trades & services                         2056\n",
       "information & communication technology    1911\n",
       "healthcare & medical                      1535\n",
       "manufacturing, transport & logistics      1523\n",
       "administration & office support           1250\n",
       "Name: category, dtype: int64"
      ]
     },
     "execution_count": 22,
     "metadata": {},
     "output_type": "execute_result"
    }
   ],
   "source": [
    "df.category.str.lower().value_counts().head()"
   ]
  },
  {
   "cell_type": "code",
   "execution_count": 23,
   "metadata": {},
   "outputs": [
    {
     "data": {
      "text/plain": [
       "Data Analyst               14\n",
       "Data Scientist             10\n",
       "Data Entry Officer          4\n",
       "Data Collector - Casual     2\n",
       "Data Architect              2\n",
       "Name: job_title, dtype: int64"
      ]
     },
     "execution_count": 23,
     "metadata": {},
     "output_type": "execute_result"
    }
   ],
   "source": [
    "df_data = df[df['job_title'].str.match('Data', flags=re.IGNORECASE)]\n",
    "df_data['job_title'].value_counts().head()"
   ]
  },
  {
   "cell_type": "code",
   "execution_count": 24,
   "metadata": {},
   "outputs": [
    {
     "data": {
      "text/html": [
       "<div>\n",
       "<style scoped>\n",
       "    .dataframe tbody tr th:only-of-type {\n",
       "        vertical-align: middle;\n",
       "    }\n",
       "\n",
       "    .dataframe tbody tr th {\n",
       "        vertical-align: top;\n",
       "    }\n",
       "\n",
       "    .dataframe thead th {\n",
       "        text-align: right;\n",
       "    }\n",
       "</style>\n",
       "<table border=\"1\" class=\"dataframe\">\n",
       "  <thead>\n",
       "    <tr style=\"text-align: right;\">\n",
       "      <th></th>\n",
       "      <th>job_title</th>\n",
       "    </tr>\n",
       "    <tr>\n",
       "      <th>date</th>\n",
       "      <th></th>\n",
       "    </tr>\n",
       "  </thead>\n",
       "  <tbody>\n",
       "    <tr>\n",
       "      <th>2018-04-30</th>\n",
       "      <td>7</td>\n",
       "    </tr>\n",
       "    <tr>\n",
       "      <th>2018-05-31</th>\n",
       "      <td>4</td>\n",
       "    </tr>\n",
       "    <tr>\n",
       "      <th>2018-06-30</th>\n",
       "      <td>13</td>\n",
       "    </tr>\n",
       "    <tr>\n",
       "      <th>2018-07-31</th>\n",
       "      <td>9</td>\n",
       "    </tr>\n",
       "    <tr>\n",
       "      <th>2018-08-31</th>\n",
       "      <td>8</td>\n",
       "    </tr>\n",
       "    <tr>\n",
       "      <th>2018-09-30</th>\n",
       "      <td>13</td>\n",
       "    </tr>\n",
       "    <tr>\n",
       "      <th>2018-10-31</th>\n",
       "      <td>22</td>\n",
       "    </tr>\n",
       "    <tr>\n",
       "      <th>2018-11-30</th>\n",
       "      <td>4</td>\n",
       "    </tr>\n",
       "  </tbody>\n",
       "</table>\n",
       "</div>"
      ],
      "text/plain": [
       "            job_title\n",
       "date                 \n",
       "2018-04-30          7\n",
       "2018-05-31          4\n",
       "2018-06-30         13\n",
       "2018-07-31          9\n",
       "2018-08-31          8\n",
       "2018-09-30         13\n",
       "2018-10-31         22\n",
       "2018-11-30          4"
      ]
     },
     "execution_count": 24,
     "metadata": {},
     "output_type": "execute_result"
    }
   ],
   "source": [
    "df_data.dtypes\n",
    "df_data_resample_M = df_data.resample('M', on='date').count()\n",
    "df_data_resample_M[['job_title']]"
   ]
  },
  {
   "cell_type": "code",
   "execution_count": 25,
   "metadata": {},
   "outputs": [
    {
     "data": {
      "image/png": "[encoded data removed]",
      "text/plain": [
       "<Figure size 432x288 with 1 Axes>"
      ]
     },
     "metadata": {
      "needs_background": "light"
     },
     "output_type": "display_data"
    },
    {
     "data": {
      "text/plain": [
       "(None, None)"
      ]
     },
     "execution_count": 25,
     "metadata": {},
     "output_type": "execute_result"
    }
   ],
   "source": [
    "scatter_plot('Jobs with data', df_data_resample_M) # with november something is wrong but"
   ]
  },
  {
   "cell_type": "code",
   "execution_count": 26,
   "metadata": {},
   "outputs": [
    {
     "data": {
      "text/html": [
       "<div>\n",
       "<style scoped>\n",
       "    .dataframe tbody tr th:only-of-type {\n",
       "        vertical-align: middle;\n",
       "    }\n",
       "\n",
       "    .dataframe tbody tr th {\n",
       "        vertical-align: top;\n",
       "    }\n",
       "\n",
       "    .dataframe thead th {\n",
       "        text-align: right;\n",
       "    }\n",
       "</style>\n",
       "<table border=\"1\" class=\"dataframe\">\n",
       "  <thead>\n",
       "    <tr style=\"text-align: right;\">\n",
       "      <th></th>\n",
       "      <th>pageurl</th>\n",
       "      <th>crawl_timestamp</th>\n",
       "      <th>job_title</th>\n",
       "      <th>category</th>\n",
       "      <th>company_name</th>\n",
       "      <th>city</th>\n",
       "      <th>post_date</th>\n",
       "      <th>job_description</th>\n",
       "      <th>job_type</th>\n",
       "      <th>job_board</th>\n",
       "      <th>geo</th>\n",
       "      <th>state</th>\n",
       "      <th>salary_offered</th>\n",
       "      <th>date</th>\n",
       "    </tr>\n",
       "  </thead>\n",
       "  <tbody>\n",
       "    <tr>\n",
       "      <th>17465</th>\n",
       "      <td>https://www.seek.com.au/job/36408049</td>\n",
       "      <td>2018-06-08 06:43:41 +0000</td>\n",
       "      <td>Blockchain Software Developer</td>\n",
       "      <td>Information &amp; Communication Technology</td>\n",
       "      <td>CJ Platinum</td>\n",
       "      <td>Sydney</td>\n",
       "      <td>2018-06-06 03:24:52+00:00</td>\n",
       "      <td>NaN</td>\n",
       "      <td>Full Time</td>\n",
       "      <td>seek</td>\n",
       "      <td>AU</td>\n",
       "      <td>North Shore &amp; Northern Beaches</td>\n",
       "      <td>NaN</td>\n",
       "      <td>2018-06-06</td>\n",
       "    </tr>\n",
       "  </tbody>\n",
       "</table>\n",
       "</div>"
      ],
      "text/plain": [
       "                                    pageurl            crawl_timestamp  \\\n",
       "17465  https://www.seek.com.au/job/36408049  2018-06-08 06:43:41 +0000   \n",
       "\n",
       "                           job_title                                category  \\\n",
       "17465  Blockchain Software Developer  Information & Communication Technology   \n",
       "\n",
       "      company_name    city                 post_date job_description  \\\n",
       "17465  CJ Platinum  Sydney 2018-06-06 03:24:52+00:00             NaN   \n",
       "\n",
       "        job_type job_board geo                           state salary_offered  \\\n",
       "17465  Full Time      seek  AU  North Shore & Northern Beaches            NaN   \n",
       "\n",
       "            date  \n",
       "17465 2018-06-06  "
      ]
     },
     "execution_count": 26,
     "metadata": {},
     "output_type": "execute_result"
    }
   ],
   "source": [
    "df_blockchain = df[df['job_title'].str.match('Blockchain', flags=re.IGNORECASE)]\n",
    "df_blockchain.head()"
   ]
  },
  {
   "cell_type": "code",
   "execution_count": 27,
   "metadata": {},
   "outputs": [
    {
     "data": {
      "text/html": [
       "<div>\n",
       "<style scoped>\n",
       "    .dataframe tbody tr th:only-of-type {\n",
       "        vertical-align: middle;\n",
       "    }\n",
       "\n",
       "    .dataframe tbody tr th {\n",
       "        vertical-align: top;\n",
       "    }\n",
       "\n",
       "    .dataframe thead th {\n",
       "        text-align: right;\n",
       "    }\n",
       "</style>\n",
       "<table border=\"1\" class=\"dataframe\">\n",
       "  <thead>\n",
       "    <tr style=\"text-align: right;\">\n",
       "      <th></th>\n",
       "      <th>job_title</th>\n",
       "    </tr>\n",
       "    <tr>\n",
       "      <th>date</th>\n",
       "      <th></th>\n",
       "    </tr>\n",
       "  </thead>\n",
       "  <tbody>\n",
       "    <tr>\n",
       "      <th>2018-06-30</th>\n",
       "      <td>1</td>\n",
       "    </tr>\n",
       "  </tbody>\n",
       "</table>\n",
       "</div>"
      ],
      "text/plain": [
       "            job_title\n",
       "date                 \n",
       "2018-06-30          1"
      ]
     },
     "execution_count": 27,
     "metadata": {},
     "output_type": "execute_result"
    }
   ],
   "source": [
    "df_blockchain.dtypes\n",
    "df_blockchain_resample_M = df_blockchain.resample('M', on='date').count()\n",
    "df_blockchain_resample_M[['job_title']]"
   ]
  },
  {
   "cell_type": "code",
   "execution_count": 28,
   "metadata": {},
   "outputs": [
    {
     "data": {
      "image/png": "[encoded data removed]",
      "text/plain": [
       "<Figure size 432x288 with 1 Axes>"
      ]
     },
     "metadata": {
      "needs_background": "light"
     },
     "output_type": "display_data"
    },
    {
     "data": {
      "text/plain": [
       "(None, None)"
      ]
     },
     "execution_count": 28,
     "metadata": {},
     "output_type": "execute_result"
    }
   ],
   "source": [
    "scatter_plot('Blockchain', df_blockchain_resample_M)"
   ]
  }
 ],
 "metadata": {
  "kernelspec": {
   "display_name": "Python 3",
   "language": "python",
   "name": "python3"
  },
  "language_info": {
   "codemirror_mode": {
    "name": "ipython",
    "version": 3
   },
   "file_extension": ".py",
   "mimetype": "text/x-python",
   "name": "python",
   "nbconvert_exporter": "python",
   "pygments_lexer": "ipython3",
   "version": "3.7.3"
  }
 },
 "nbformat": 4,
 "nbformat_minor": 2
}
