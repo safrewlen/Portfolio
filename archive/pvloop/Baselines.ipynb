{
 "cells": [
  {
   "cell_type": "code",
   "execution_count": 1,
   "metadata": {},
   "outputs": [],
   "source": [
    "%matplotlib inline\n",
    "import pandas as pd\n",
    "import numpy as np \n",
    "import matplotlib.pyplot as plt\n",
    "plt.style.use('ggplot')\n",
    "import locale\n",
    "locale.setlocale(locale.LC_NUMERIC, '')\n",
    "import os"
   ]
  },
  {
   "cell_type": "code",
   "execution_count": 3,
   "metadata": {},
   "outputs": [
    {
     "data": {
      "text/html": [
       "<div>\n",
       "<style scoped>\n",
       "    .dataframe tbody tr th:only-of-type {\n",
       "        vertical-align: middle;\n",
       "    }\n",
       "\n",
       "    .dataframe tbody tr th {\n",
       "        vertical-align: top;\n",
       "    }\n",
       "\n",
       "    .dataframe thead th {\n",
       "        text-align: right;\n",
       "    }\n",
       "</style>\n",
       "<table border=\"1\" class=\"dataframe\">\n",
       "  <thead>\n",
       "    <tr style=\"text-align: right;\">\n",
       "      <th></th>\n",
       "      <th>CE</th>\n",
       "      <th>CO (µL/min)</th>\n",
       "      <th>EF (%)</th>\n",
       "      <th>EF%</th>\n",
       "      <th>Ea (mmHg/µL)</th>\n",
       "      <th>HR (bpm)</th>\n",
       "      <th>IVG</th>\n",
       "      <th>PE (mmHg*µL)</th>\n",
       "      <th>PVA (mmHg*µL)</th>\n",
       "      <th>Ped (mmHg)</th>\n",
       "      <th>Pes (mmHg)</th>\n",
       "      <th>PowMax (mmHg*µL/s)</th>\n",
       "      <th>SV (µL)</th>\n",
       "      <th>SW (mmHg*µL)</th>\n",
       "      <th>Ved (µL)</th>\n",
       "      <th>Ves (µL)</th>\n",
       "      <th>dP/dt max (mmHg/s)</th>\n",
       "      <th>group_type</th>\n",
       "      <th>rat_no</th>\n",
       "    </tr>\n",
       "  </thead>\n",
       "  <tbody>\n",
       "    <tr>\n",
       "      <th>0</th>\n",
       "      <td>NaN</td>\n",
       "      <td>199000000.0</td>\n",
       "      <td>91.76</td>\n",
       "      <td>75.711861</td>\n",
       "      <td>0.2687</td>\n",
       "      <td>375.0</td>\n",
       "      <td>138538.784712</td>\n",
       "      <td>NaN</td>\n",
       "      <td>NaN</td>\n",
       "      <td>-0.1847</td>\n",
       "      <td>142.6</td>\n",
       "      <td>1.704000e+09</td>\n",
       "      <td>530.7</td>\n",
       "      <td>62270000.0</td>\n",
       "      <td>530.3</td>\n",
       "      <td>128.8</td>\n",
       "      <td>13520000.0</td>\n",
       "      <td>control</td>\n",
       "      <td>rat_10k_baseline_1</td>\n",
       "    </tr>\n",
       "    <tr>\n",
       "      <th>1</th>\n",
       "      <td>NaN</td>\n",
       "      <td>177500000.0</td>\n",
       "      <td>99.20</td>\n",
       "      <td>74.304207</td>\n",
       "      <td>0.3087</td>\n",
       "      <td>379.7</td>\n",
       "      <td>124954.954955</td>\n",
       "      <td>NaN</td>\n",
       "      <td>NaN</td>\n",
       "      <td>3.6050</td>\n",
       "      <td>144.3</td>\n",
       "      <td>9.543000e+08</td>\n",
       "      <td>467.4</td>\n",
       "      <td>52120000.0</td>\n",
       "      <td>463.5</td>\n",
       "      <td>119.1</td>\n",
       "      <td>13870000.0</td>\n",
       "      <td>control</td>\n",
       "      <td>rat_10k_baseline_1</td>\n",
       "    </tr>\n",
       "    <tr>\n",
       "      <th>2</th>\n",
       "      <td>NaN</td>\n",
       "      <td>199200000.0</td>\n",
       "      <td>96.60</td>\n",
       "      <td>76.237113</td>\n",
       "      <td>0.2762</td>\n",
       "      <td>377.4</td>\n",
       "      <td>126562.500000</td>\n",
       "      <td>NaN</td>\n",
       "      <td>NaN</td>\n",
       "      <td>1.3680</td>\n",
       "      <td>145.8</td>\n",
       "      <td>1.725000e+09</td>\n",
       "      <td>527.8</td>\n",
       "      <td>60340000.0</td>\n",
       "      <td>582.0</td>\n",
       "      <td>138.3</td>\n",
       "      <td>13770000.0</td>\n",
       "      <td>control</td>\n",
       "      <td>rat_10k_baseline_1</td>\n",
       "    </tr>\n",
       "    <tr>\n",
       "      <th>3</th>\n",
       "      <td>NaN</td>\n",
       "      <td>165900000.0</td>\n",
       "      <td>99.72</td>\n",
       "      <td>73.802612</td>\n",
       "      <td>0.3191</td>\n",
       "      <td>377.4</td>\n",
       "      <td>133237.547893</td>\n",
       "      <td>NaN</td>\n",
       "      <td>NaN</td>\n",
       "      <td>3.3650</td>\n",
       "      <td>140.3</td>\n",
       "      <td>7.012000e+08</td>\n",
       "      <td>439.7</td>\n",
       "      <td>48540000.0</td>\n",
       "      <td>413.4</td>\n",
       "      <td>108.3</td>\n",
       "      <td>13910000.0</td>\n",
       "      <td>control</td>\n",
       "      <td>rat_10k_baseline_1</td>\n",
       "    </tr>\n",
       "    <tr>\n",
       "      <th>4</th>\n",
       "      <td>NaN</td>\n",
       "      <td>206700000.0</td>\n",
       "      <td>96.93</td>\n",
       "      <td>75.781861</td>\n",
       "      <td>0.2560</td>\n",
       "      <td>375.0</td>\n",
       "      <td>133827.893175</td>\n",
       "      <td>NaN</td>\n",
       "      <td>NaN</td>\n",
       "      <td>-0.3146</td>\n",
       "      <td>141.1</td>\n",
       "      <td>2.218000e+09</td>\n",
       "      <td>551.2</td>\n",
       "      <td>59750000.0</td>\n",
       "      <td>511.6</td>\n",
       "      <td>123.9</td>\n",
       "      <td>13530000.0</td>\n",
       "      <td>control</td>\n",
       "      <td>rat_10k_baseline_1</td>\n",
       "    </tr>\n",
       "  </tbody>\n",
       "</table>\n",
       "</div>"
      ],
      "text/plain": [
       "   CE  CO (µL/min)  EF (%)        EF%  Ea (mmHg/µL)  HR (bpm)            IVG  \\\n",
       "0 NaN  199000000.0   91.76  75.711861        0.2687     375.0  138538.784712   \n",
       "1 NaN  177500000.0   99.20  74.304207        0.3087     379.7  124954.954955   \n",
       "2 NaN  199200000.0   96.60  76.237113        0.2762     377.4  126562.500000   \n",
       "3 NaN  165900000.0   99.72  73.802612        0.3191     377.4  133237.547893   \n",
       "4 NaN  206700000.0   96.93  75.781861        0.2560     375.0  133827.893175   \n",
       "\n",
       "   PE (mmHg*µL)  PVA (mmHg*µL)  Ped (mmHg)  Pes (mmHg)  PowMax (mmHg*µL/s)  \\\n",
       "0           NaN            NaN     -0.1847       142.6        1.704000e+09   \n",
       "1           NaN            NaN      3.6050       144.3        9.543000e+08   \n",
       "2           NaN            NaN      1.3680       145.8        1.725000e+09   \n",
       "3           NaN            NaN      3.3650       140.3        7.012000e+08   \n",
       "4           NaN            NaN     -0.3146       141.1        2.218000e+09   \n",
       "\n",
       "   SV (µL)  SW (mmHg*µL)  Ved (µL)  Ves (µL)  dP/dt max (mmHg/s) group_type  \\\n",
       "0    530.7    62270000.0     530.3     128.8          13520000.0    control   \n",
       "1    467.4    52120000.0     463.5     119.1          13870000.0    control   \n",
       "2    527.8    60340000.0     582.0     138.3          13770000.0    control   \n",
       "3    439.7    48540000.0     413.4     108.3          13910000.0    control   \n",
       "4    551.2    59750000.0     511.6     123.9          13530000.0    control   \n",
       "\n",
       "               rat_no  \n",
       "0  rat_10k_baseline_1  \n",
       "1  rat_10k_baseline_1  \n",
       "2  rat_10k_baseline_1  \n",
       "3  rat_10k_baseline_1  \n",
       "4  rat_10k_baseline_1  "
      ]
     },
     "execution_count": 3,
     "metadata": {},
     "output_type": "execute_result"
    }
   ],
   "source": [
    "array_with_baselines = []\n",
    "for subdir, dirs, files in os.walk(r'C:\\Users\\safre\\Desktop\\diplom\\pvloop\\data\\Baselines'):\n",
    "#     print(subdir, dirs, files)\n",
    "    for file in files:\n",
    "        filepath = os.path.join(subdir, file)\n",
    "#         print(file, subdir)\n",
    "        if file == ('rat_14_baseline_1.txt'):\n",
    "            continue\n",
    "        a = pd.read_csv(filepath, sep='\\t', engine = 'python', decimal = ',', index_col=0)\n",
    "        a.replace(' ', np.nan, inplace=True)\n",
    "        a.dropna(inplace=True)\n",
    "        a = a[:-5]\n",
    "#         try:\n",
    "        a = a.applymap(locale.atof)\n",
    "#         except:\n",
    "#             print(file, subdir)\n",
    "#             continue\n",
    "#             print('\\n')\n",
    "        a.reset_index(drop=True, inplace=True)\n",
    "        a['group_type'] = subdir.split('\\\\')[-1]\n",
    "        a['rat_no'] = file[:-4] \n",
    "#         print(file[:-4])\n",
    "#         try:\n",
    "        a['EF%'] = (a['Ved (µL)'] - a['Ves (µL)'])*100/a['Ved (µL)']\n",
    "#         except:\n",
    "#             print(file, subdir)\n",
    "#             a['EF%'] = float('nan')\n",
    "#             print('\\n')\n",
    "#             continue\n",
    "        a['IVG'] = a['dP/dt max (mmHg/s)']/a['P@dP/dt max (mmHg)']\n",
    "#         try:\n",
    "        a = a.drop(['Vmax (µL)', 'Vmin (µL)', 'Pmax (mmHg)', 'Pmin (mmHg)', 'Pmean (mmHg)', 'Pdev (mmHg)',\n",
    "                                 'dP/dt min (mmHg/s)', 'dV/dt max (µL/s)', 'dV/dt min (µL/s)', 'P@dV/dt max (mmHg)', \n",
    "                                'P@dP/dt max (mmHg)', 'V@dP/dt max (µL)', 'V@dP/dt min (µL)', 'Tau (ms)'], axis=1)\n",
    "#         except:\n",
    "#             print(file, subdir)\n",
    "#             continue\n",
    "        array_with_baselines.append(a)\n",
    "#         print(subdir.split('\\\\')[-1])\n",
    "#         break\n",
    "\n",
    "array_with_baselines[0]\n",
    "all_baselines = pd.concat(array_with_baselines)\n",
    "all_baselines.head()"
   ]
  },
  {
   "cell_type": "code",
   "execution_count": 20,
   "metadata": {},
   "outputs": [
    {
     "ename": "TypeError",
     "evalue": "cannot do positional indexing on <class 'pandas.core.indexes.multi.MultiIndex'> with these indexers [True] of <class 'bool'>",
     "output_type": "error",
     "traceback": [
      "\u001b[1;31m---------------------------------------------------------------------------\u001b[0m",
      "\u001b[1;31mTypeError\u001b[0m                                 Traceback (most recent call last)",
      "\u001b[1;32m<ipython-input-20-48c0fef75d5d>\u001b[0m in \u001b[0;36m<module>\u001b[1;34m()\u001b[0m\n\u001b[0;32m      1\u001b[0m \u001b[0mdf_sw_means\u001b[0m \u001b[1;33m=\u001b[0m \u001b[0mpd\u001b[0m\u001b[1;33m.\u001b[0m\u001b[0mDataFrame\u001b[0m\u001b[1;33m(\u001b[0m\u001b[0mall_baselines\u001b[0m\u001b[1;33m.\u001b[0m\u001b[0mgroupby\u001b[0m\u001b[1;33m(\u001b[0m\u001b[1;33m[\u001b[0m\u001b[1;34m'group_type'\u001b[0m\u001b[1;33m,\u001b[0m \u001b[1;34m'rat_no'\u001b[0m\u001b[1;33m]\u001b[0m\u001b[1;33m)\u001b[0m\u001b[1;33m[\u001b[0m\u001b[1;34m'SW (mmHg*µL)'\u001b[0m\u001b[1;33m]\u001b[0m\u001b[1;33m.\u001b[0m\u001b[0mmean\u001b[0m\u001b[1;33m(\u001b[0m\u001b[1;33m)\u001b[0m\u001b[1;33m)\u001b[0m\u001b[1;33m\u001b[0m\u001b[0m\n\u001b[0;32m      2\u001b[0m \u001b[1;31m# df_sw_means = df_sw_means.iloc[~df_sw_means['rat_no'].isin([rat_3M_baseline_1, rat_3M_baseline_2])]\u001b[0m\u001b[1;33m\u001b[0m\u001b[1;33m\u001b[0m\u001b[0m\n\u001b[1;32m----> 3\u001b[1;33m \u001b[0mdf_sw_means\u001b[0m \u001b[1;33m=\u001b[0m \u001b[0mdf_sw_means\u001b[0m\u001b[1;33m.\u001b[0m\u001b[0miloc\u001b[0m\u001b[1;33m[\u001b[0m\u001b[1;34m'rat_no'\u001b[0m \u001b[1;33m!=\u001b[0m \u001b[1;34m'rat_3M_baseline_1'\u001b[0m\u001b[1;33m]\u001b[0m\u001b[1;33m\u001b[0m\u001b[0m\n\u001b[0m\u001b[0;32m      4\u001b[0m \u001b[0mdf_sw_means\u001b[0m\u001b[1;33m\u001b[0m\u001b[0m\n\u001b[0;32m      5\u001b[0m \u001b[1;31m# reshape = df_sw_means.pivot_table(index='rat_no', columns='group_type')\u001b[0m\u001b[1;33m\u001b[0m\u001b[1;33m\u001b[0m\u001b[0m\n",
      "\u001b[1;32m~\\Anaconda3\\lib\\site-packages\\pandas\\core\\indexing.py\u001b[0m in \u001b[0;36m__getitem__\u001b[1;34m(self, key)\u001b[0m\n\u001b[0;32m   1371\u001b[0m \u001b[1;33m\u001b[0m\u001b[0m\n\u001b[0;32m   1372\u001b[0m             \u001b[0mmaybe_callable\u001b[0m \u001b[1;33m=\u001b[0m \u001b[0mcom\u001b[0m\u001b[1;33m.\u001b[0m\u001b[0m_apply_if_callable\u001b[0m\u001b[1;33m(\u001b[0m\u001b[0mkey\u001b[0m\u001b[1;33m,\u001b[0m \u001b[0mself\u001b[0m\u001b[1;33m.\u001b[0m\u001b[0mobj\u001b[0m\u001b[1;33m)\u001b[0m\u001b[1;33m\u001b[0m\u001b[0m\n\u001b[1;32m-> 1373\u001b[1;33m             \u001b[1;32mreturn\u001b[0m \u001b[0mself\u001b[0m\u001b[1;33m.\u001b[0m\u001b[0m_getitem_axis\u001b[0m\u001b[1;33m(\u001b[0m\u001b[0mmaybe_callable\u001b[0m\u001b[1;33m,\u001b[0m \u001b[0maxis\u001b[0m\u001b[1;33m=\u001b[0m\u001b[0maxis\u001b[0m\u001b[1;33m)\u001b[0m\u001b[1;33m\u001b[0m\u001b[0m\n\u001b[0m\u001b[0;32m   1374\u001b[0m \u001b[1;33m\u001b[0m\u001b[0m\n\u001b[0;32m   1375\u001b[0m     \u001b[1;32mdef\u001b[0m \u001b[0m_is_scalar_access\u001b[0m\u001b[1;33m(\u001b[0m\u001b[0mself\u001b[0m\u001b[1;33m,\u001b[0m \u001b[0mkey\u001b[0m\u001b[1;33m)\u001b[0m\u001b[1;33m:\u001b[0m\u001b[1;33m\u001b[0m\u001b[0m\n",
      "\u001b[1;32m~\\Anaconda3\\lib\\site-packages\\pandas\\core\\indexing.py\u001b[0m in \u001b[0;36m_getitem_axis\u001b[1;34m(self, key, axis)\u001b[0m\n\u001b[0;32m   1821\u001b[0m         \u001b[1;31m# a single integer\u001b[0m\u001b[1;33m\u001b[0m\u001b[1;33m\u001b[0m\u001b[0m\n\u001b[0;32m   1822\u001b[0m         \u001b[1;32melse\u001b[0m\u001b[1;33m:\u001b[0m\u001b[1;33m\u001b[0m\u001b[0m\n\u001b[1;32m-> 1823\u001b[1;33m             \u001b[0mkey\u001b[0m \u001b[1;33m=\u001b[0m \u001b[0mself\u001b[0m\u001b[1;33m.\u001b[0m\u001b[0m_convert_scalar_indexer\u001b[0m\u001b[1;33m(\u001b[0m\u001b[0mkey\u001b[0m\u001b[1;33m,\u001b[0m \u001b[0maxis\u001b[0m\u001b[1;33m)\u001b[0m\u001b[1;33m\u001b[0m\u001b[0m\n\u001b[0m\u001b[0;32m   1824\u001b[0m \u001b[1;33m\u001b[0m\u001b[0m\n\u001b[0;32m   1825\u001b[0m             \u001b[1;32mif\u001b[0m \u001b[1;32mnot\u001b[0m \u001b[0mis_integer\u001b[0m\u001b[1;33m(\u001b[0m\u001b[0mkey\u001b[0m\u001b[1;33m)\u001b[0m\u001b[1;33m:\u001b[0m\u001b[1;33m\u001b[0m\u001b[0m\n",
      "\u001b[1;32m~\\Anaconda3\\lib\\site-packages\\pandas\\core\\indexing.py\u001b[0m in \u001b[0;36m_convert_scalar_indexer\u001b[1;34m(self, key, axis)\u001b[0m\n\u001b[0;32m    254\u001b[0m         \u001b[0max\u001b[0m \u001b[1;33m=\u001b[0m \u001b[0mself\u001b[0m\u001b[1;33m.\u001b[0m\u001b[0mobj\u001b[0m\u001b[1;33m.\u001b[0m\u001b[0m_get_axis\u001b[0m\u001b[1;33m(\u001b[0m\u001b[0mmin\u001b[0m\u001b[1;33m(\u001b[0m\u001b[0maxis\u001b[0m\u001b[1;33m,\u001b[0m \u001b[0mself\u001b[0m\u001b[1;33m.\u001b[0m\u001b[0mndim\u001b[0m \u001b[1;33m-\u001b[0m \u001b[1;36m1\u001b[0m\u001b[1;33m)\u001b[0m\u001b[1;33m)\u001b[0m\u001b[1;33m\u001b[0m\u001b[0m\n\u001b[0;32m    255\u001b[0m         \u001b[1;31m# a scalar\u001b[0m\u001b[1;33m\u001b[0m\u001b[1;33m\u001b[0m\u001b[0m\n\u001b[1;32m--> 256\u001b[1;33m         \u001b[1;32mreturn\u001b[0m \u001b[0max\u001b[0m\u001b[1;33m.\u001b[0m\u001b[0m_convert_scalar_indexer\u001b[0m\u001b[1;33m(\u001b[0m\u001b[0mkey\u001b[0m\u001b[1;33m,\u001b[0m \u001b[0mkind\u001b[0m\u001b[1;33m=\u001b[0m\u001b[0mself\u001b[0m\u001b[1;33m.\u001b[0m\u001b[0mname\u001b[0m\u001b[1;33m)\u001b[0m\u001b[1;33m\u001b[0m\u001b[0m\n\u001b[0m\u001b[0;32m    257\u001b[0m \u001b[1;33m\u001b[0m\u001b[0m\n\u001b[0;32m    258\u001b[0m     \u001b[1;32mdef\u001b[0m \u001b[0m_convert_slice_indexer\u001b[0m\u001b[1;33m(\u001b[0m\u001b[0mself\u001b[0m\u001b[1;33m,\u001b[0m \u001b[0mkey\u001b[0m\u001b[1;33m,\u001b[0m \u001b[0maxis\u001b[0m\u001b[1;33m)\u001b[0m\u001b[1;33m:\u001b[0m\u001b[1;33m\u001b[0m\u001b[0m\n",
      "\u001b[1;32m~\\Anaconda3\\lib\\site-packages\\pandas\\core\\indexes\\base.py\u001b[0m in \u001b[0;36m_convert_scalar_indexer\u001b[1;34m(self, key, kind)\u001b[0m\n\u001b[0;32m   1363\u001b[0m \u001b[1;33m\u001b[0m\u001b[0m\n\u001b[0;32m   1364\u001b[0m         \u001b[1;32mif\u001b[0m \u001b[0mkind\u001b[0m \u001b[1;33m==\u001b[0m \u001b[1;34m'iloc'\u001b[0m\u001b[1;33m:\u001b[0m\u001b[1;33m\u001b[0m\u001b[0m\n\u001b[1;32m-> 1365\u001b[1;33m             \u001b[1;32mreturn\u001b[0m \u001b[0mself\u001b[0m\u001b[1;33m.\u001b[0m\u001b[0m_validate_indexer\u001b[0m\u001b[1;33m(\u001b[0m\u001b[1;34m'positional'\u001b[0m\u001b[1;33m,\u001b[0m \u001b[0mkey\u001b[0m\u001b[1;33m,\u001b[0m \u001b[0mkind\u001b[0m\u001b[1;33m)\u001b[0m\u001b[1;33m\u001b[0m\u001b[0m\n\u001b[0m\u001b[0;32m   1366\u001b[0m \u001b[1;33m\u001b[0m\u001b[0m\n\u001b[0;32m   1367\u001b[0m         \u001b[1;32mif\u001b[0m \u001b[0mlen\u001b[0m\u001b[1;33m(\u001b[0m\u001b[0mself\u001b[0m\u001b[1;33m)\u001b[0m \u001b[1;32mand\u001b[0m \u001b[1;32mnot\u001b[0m \u001b[0misinstance\u001b[0m\u001b[1;33m(\u001b[0m\u001b[0mself\u001b[0m\u001b[1;33m,\u001b[0m \u001b[0mABCMultiIndex\u001b[0m\u001b[1;33m,\u001b[0m\u001b[1;33m)\u001b[0m\u001b[1;33m:\u001b[0m\u001b[1;33m\u001b[0m\u001b[0m\n",
      "\u001b[1;32m~\\Anaconda3\\lib\\site-packages\\pandas\\core\\indexes\\base.py\u001b[0m in \u001b[0;36m_validate_indexer\u001b[1;34m(self, form, key, kind)\u001b[0m\n\u001b[0;32m   3493\u001b[0m             \u001b[1;32mpass\u001b[0m\u001b[1;33m\u001b[0m\u001b[0m\n\u001b[0;32m   3494\u001b[0m         \u001b[1;32melif\u001b[0m \u001b[0mkind\u001b[0m \u001b[1;32min\u001b[0m \u001b[1;33m[\u001b[0m\u001b[1;34m'iloc'\u001b[0m\u001b[1;33m,\u001b[0m \u001b[1;34m'getitem'\u001b[0m\u001b[1;33m]\u001b[0m\u001b[1;33m:\u001b[0m\u001b[1;33m\u001b[0m\u001b[0m\n\u001b[1;32m-> 3495\u001b[1;33m             \u001b[0mself\u001b[0m\u001b[1;33m.\u001b[0m\u001b[0m_invalid_indexer\u001b[0m\u001b[1;33m(\u001b[0m\u001b[0mform\u001b[0m\u001b[1;33m,\u001b[0m \u001b[0mkey\u001b[0m\u001b[1;33m)\u001b[0m\u001b[1;33m\u001b[0m\u001b[0m\n\u001b[0m\u001b[0;32m   3496\u001b[0m         \u001b[1;32mreturn\u001b[0m \u001b[0mkey\u001b[0m\u001b[1;33m\u001b[0m\u001b[0m\n\u001b[0;32m   3497\u001b[0m \u001b[1;33m\u001b[0m\u001b[0m\n",
      "\u001b[1;32m~\\Anaconda3\\lib\\site-packages\\pandas\\core\\indexes\\base.py\u001b[0m in \u001b[0;36m_invalid_indexer\u001b[1;34m(self, form, key)\u001b[0m\n\u001b[0;32m   1574\u001b[0m                         \"indexers [{key}] of {kind}\".format(\n\u001b[0;32m   1575\u001b[0m                             \u001b[0mform\u001b[0m\u001b[1;33m=\u001b[0m\u001b[0mform\u001b[0m\u001b[1;33m,\u001b[0m \u001b[0mklass\u001b[0m\u001b[1;33m=\u001b[0m\u001b[0mtype\u001b[0m\u001b[1;33m(\u001b[0m\u001b[0mself\u001b[0m\u001b[1;33m)\u001b[0m\u001b[1;33m,\u001b[0m \u001b[0mkey\u001b[0m\u001b[1;33m=\u001b[0m\u001b[0mkey\u001b[0m\u001b[1;33m,\u001b[0m\u001b[1;33m\u001b[0m\u001b[0m\n\u001b[1;32m-> 1576\u001b[1;33m                             kind=type(key)))\n\u001b[0m\u001b[0;32m   1577\u001b[0m \u001b[1;33m\u001b[0m\u001b[0m\n\u001b[0;32m   1578\u001b[0m     \u001b[1;32mdef\u001b[0m \u001b[0mget_duplicates\u001b[0m\u001b[1;33m(\u001b[0m\u001b[0mself\u001b[0m\u001b[1;33m)\u001b[0m\u001b[1;33m:\u001b[0m\u001b[1;33m\u001b[0m\u001b[0m\n",
      "\u001b[1;31mTypeError\u001b[0m: cannot do positional indexing on <class 'pandas.core.indexes.multi.MultiIndex'> with these indexers [True] of <class 'bool'>"
     ]
    }
   ],
   "source": [
    "df_sw_means = pd.DataFrame(all_baselines.groupby(['group_type', 'rat_no'])['SW (mmHg*µL)'].mean())\n",
    "# df_sw_means = df_sw_means.iloc[~df_sw_means['rat_no'].isin([rat_3M_baseline_1, rat_3M_baseline_2])]\n",
    "df_sw_means = df_sw_means.iloc['rat_no' != 'rat_3M_baseline_1']\n",
    "df_sw_means\n",
    "# reshape = df_sw_means.pivot_table(index='rat_no', columns='group_type')\n",
    "# reshape\n",
    "# # reshape = reshape.as_matrix(columns=None)\n",
    "# # plt.boxplot(x = reshape)\n",
    "# plt.title('Ударная работа', color='green')\n",
    "# plt.ylabel('SW')\n",
    "# # plt.show()\n",
    "# reshape.boxplot()"
   ]
  },
  {
   "cell_type": "code",
   "execution_count": 10,
   "metadata": {},
   "outputs": [
    {
     "data": {
      "text/plain": [
       "<matplotlib.axes._subplots.AxesSubplot at 0x21a784a9a90>"
      ]
     },
     "execution_count": 10,
     "metadata": {},
     "output_type": "execute_result"
    },
    {
     "data": {
      "image/png": "[encoded data removed]",
      "text/plain": [
       "<matplotlib.figure.Figure at 0x21a78382e48>"
      ]
     },
     "metadata": {},
     "output_type": "display_data"
    }
   ],
   "source": [
    "df_ef_means = pd.DataFrame(all_baselines.groupby(['group_type', 'rat_no'])['EF%'].mean())\n",
    "reshape = df_ef_means.pivot_table(index='rat_no', columns='group_type')\n",
    "# reshape = reshape.as_matrix(columns=None)\n",
    "# plt.boxplot(x = reshape)\n",
    "plt.title('Фракция выброса', color='green')\n",
    "plt.ylabel('EF%')\n",
    "# plt.show()\n",
    "reshape.boxplot()"
   ]
  },
  {
   "cell_type": "code",
   "execution_count": 12,
   "metadata": {},
   "outputs": [
    {
     "data": {
      "text/plain": [
       "<matplotlib.axes._subplots.AxesSubplot at 0x21a7852d908>"
      ]
     },
     "execution_count": 12,
     "metadata": {},
     "output_type": "execute_result"
    },
    {
     "data": {
      "image/png": "[encoded data removed]",
      "text/plain": [
       "<matplotlib.figure.Figure at 0x21a78493908>"
      ]
     },
     "metadata": {},
     "output_type": "display_data"
    }
   ],
   "source": [
    "df_ivg_means = pd.DataFrame(all_baselines.groupby(['group_type', 'rat_no'])['IVG'].mean())\n",
    "reshape = df_ivg_means.pivot_table(index='rat_no', columns='group_type')\n",
    "# reshape = reshape.as_matrix(columns=None)\n",
    "# plt.boxplot(x = reshape)\n",
    "plt.title('Индекс Верагута', color='green')\n",
    "plt.ylabel('IVG')\n",
    "# plt.show()\n",
    "reshape.boxplot()\n"
   ]
  },
  {
   "cell_type": "code",
   "execution_count": 13,
   "metadata": {},
   "outputs": [
    {
     "data": {
      "text/plain": [
       "<matplotlib.axes._subplots.AxesSubplot at 0x21a785c3f98>"
      ]
     },
     "execution_count": 13,
     "metadata": {},
     "output_type": "execute_result"
    },
    {
     "data": {
      "image/png": "[encoded data removed]",
      "text/plain": [
       "<matplotlib.figure.Figure at 0x21a785eb5c0>"
      ]
     },
     "metadata": {},
     "output_type": "display_data"
    }
   ],
   "source": [
    "df_ea_means = pd.DataFrame(all_baselines.groupby(['group_type', 'rat_no'])['Ea (mmHg/µL)'].mean())\n",
    "reshape = df_ea_means.pivot_table(index='rat_no', columns='group_type')\n",
    "# reshape = reshape.as_matrix(columns=None)\n",
    "# plt.boxplot(x = reshape)\n",
    "plt.title('Артериальная эластичность', color='green')\n",
    "plt.ylabel('Ea')\n",
    "# plt.show()\n",
    "reshape.boxplot()"
   ]
  },
  {
   "cell_type": "code",
   "execution_count": 10,
   "metadata": {},
   "outputs": [
    {
     "data": {
      "text/plain": [
       "<matplotlib.axes._subplots.AxesSubplot at 0x1a4c6960c50>"
      ]
     },
     "execution_count": 10,
     "metadata": {},
     "output_type": "execute_result"
    },
    {
     "data": {
      "image/png": "[encoded data removed]",
      "text/plain": [
       "<matplotlib.figure.Figure at 0x1a4c58fd0b8>"
      ]
     },
     "metadata": {},
     "output_type": "display_data"
    }
   ],
   "source": [
    "df_sw_means = pd.DataFrame(result_df.groupby(['group_type', 'rat_no'])['PowMax (mmHg*µL/s)'].mean())\n",
    "reshape = df_sw_means.pivot_table(index='rat_no', columns='group_type')\n",
    "# reshape = reshape.as_matrix(columns=None)\n",
    "# plt.boxplot(x = reshape)\n",
    "# plt.title('all baselines dox', color='green')\n",
    "# plt.ylabel('SW')\n",
    "# plt.show()\n",
    "reshape.boxplot()"
   ]
  },
  {
   "cell_type": "code",
   "execution_count": null,
   "metadata": {},
   "outputs": [],
   "source": []
  },
  {
   "cell_type": "code",
   "execution_count": null,
   "metadata": {
    "collapsed": true
   },
   "outputs": [],
   "source": []
  },
  {
   "cell_type": "code",
   "execution_count": null,
   "metadata": {
    "collapsed": true
   },
   "outputs": [],
   "source": []
  }
 ],
 "metadata": {
  "kernelspec": {
   "display_name": "Python 3",
   "language": "python",
   "name": "python3"
  },
  "language_info": {
   "codemirror_mode": {
    "name": "ipython",
    "version": 3
   },
   "file_extension": ".py",
   "mimetype": "text/x-python",
   "name": "python",
   "nbconvert_exporter": "python",
   "pygments_lexer": "ipython3",
   "version": "3.6.4"
  }
 },
 "nbformat": 4,
 "nbformat_minor": 2
}
