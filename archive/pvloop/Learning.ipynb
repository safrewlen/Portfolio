{
 "cells": [
  {
   "cell_type": "code",
   "execution_count": 27,
   "metadata": {},
   "outputs": [
    {
     "name": "stdout",
     "output_type": "stream",
     "text": [
      "1 1\n",
      "1 2\n",
      "2 1\n"
     ]
    }
   ],
   "source": [
    "# a = b = 1\n",
    "# print(a, b)\n",
    "# b=2\n",
    "# print(a, b)\n",
    "# a, b = b, a\n",
    "# print(a, b)"
   ]
  },
  {
   "cell_type": "code",
   "execution_count": 44,
   "metadata": {},
   "outputs": [
    {
     "data": {
      "text/plain": [
       "(2, 1)"
      ]
     },
     "execution_count": 44,
     "metadata": {},
     "output_type": "execute_result"
    }
   ],
   "source": [
    "# a=b=1\n",
    "# a, b\n",
    "# b=2\n",
    "# a, b\n",
    "# a, b = b, a #почему не печатает 2, 1?\n",
    "# a, b"
   ]
  },
  {
   "cell_type": "code",
   "execution_count": 24,
   "metadata": {},
   "outputs": [
    {
     "name": "stdout",
     "output_type": "stream",
     "text": [
      "0\n",
      "1\n",
      "2\n",
      "3\n",
      "4\n",
      "5\n",
      "6\n",
      "7\n",
      "8\n",
      "9\n",
      "10\n"
     ]
    }
   ],
   "source": [
    "# x = 0\n",
    "# while x <= 10:\n",
    "#     print(x)\n",
    "#     x += 1 #после + пробел лучше не ставить!\n",
    "#     #tab перед x += 1 означает, что он входит в цикл\n",
    "    "
   ]
  },
  {
   "cell_type": "code",
   "execution_count": 29,
   "metadata": {},
   "outputs": [
    {
     "name": "stdout",
     "output_type": "stream",
     "text": [
      "H\n",
      "e\n",
      "l\n",
      "l\n",
      "o\n",
      ",\n",
      " \n",
      "w\n",
      "o\n",
      "r\n",
      "l\n",
      "d\n",
      "!\n"
     ]
    }
   ],
   "source": [
    "# x=\"Hello, world!\"\n",
    "# for char in x:\n",
    "#     print(char)\n",
    "    "
   ]
  },
  {
   "cell_type": "code",
   "execution_count": 34,
   "metadata": {},
   "outputs": [
    {
     "name": "stdout",
     "output_type": "stream",
     "text": [
      "12\n",
      "10\n",
      "8\n",
      "6\n",
      "4\n",
      "2\n"
     ]
    }
   ],
   "source": [
    "# for x in range(12, 0, -2):\n",
    "#     print(x)\n",
    "#     #range- массив чисел от 12 до 0 с шагом -2, 0 не включается"
   ]
  },
  {
   "cell_type": "code",
   "execution_count": 52,
   "metadata": {},
   "outputs": [
    {
     "name": "stdout",
     "output_type": "stream",
     "text": [
      "help\n",
      "100\n",
      "Good buy\n"
     ]
    }
   ],
   "source": [
    "# x=5; y=3\n",
    "# if x<y:\n",
    "#     print('22')\n",
    "# else:\n",
    "#     print('help')\n",
    "    \n",
    "# # if expression1:\n",
    "# #    statement(s)\n",
    "# # elif expression2:\n",
    "# #    statement(s)\n",
    "# # elif expression3:\n",
    "# #    statement(s)\n",
    "# # else:\n",
    "# #    statement(s)\n",
    "\n",
    "# # как эта хрень работает???\n",
    "# var = 100\n",
    "# if var == 200:\n",
    "#     print (var)\n",
    "# elif var == 150:\n",
    "#     print (var)\n",
    "# elif var == 100:\n",
    "#     print (var)\n",
    "# else:\n",
    "#     print (var)\n",
    "    \n",
    "# print ('Good buy')"
   ]
  },
  {
   "cell_type": "code",
   "execution_count": 62,
   "metadata": {
    "scrolled": true
   },
   "outputs": [
    {
     "name": "stdout",
     "output_type": "stream",
     "text": [
      "Введи число: 2\n",
      "Квадрат этого числа составляет:  4\n",
      "Введи число: 1.1\n",
      "Квадрат этого числа составляет:  1.2100000000000002\n"
     ]
    }
   ],
   "source": [
    "# x = int (input ('Введи число: '))\n",
    "# print ('Квадрат этого числа составляет: ',x*x)\n",
    "# # почему не работает raw_input ()\n",
    "\n",
    "# x = float (input ('Введи число: '))\n",
    "# print ('Квадрат этого числа составляет: ',x*x)"
   ]
  },
  {
   "cell_type": "code",
   "execution_count": 75,
   "metadata": {},
   "outputs": [
    {
     "name": "stdout",
     "output_type": "stream",
     "text": [
      "Введи катет: 3\n",
      "Введи второй: 4\n",
      "Гипотенуза:  5.0\n"
     ]
    }
   ],
   "source": [
    "# # гипотенуза прямоугольного треугольника\n",
    "# from math import sqrt\n",
    "# a = float(input('Введи катет: '))\n",
    "# b = float(input('Введи второй: '))\n",
    "# print('Гипотенуза: ', sqrt(a*a + b*b)) # import math тогда math.sqrt ()\n"
   ]
  },
  {
   "cell_type": "code",
   "execution_count": 74,
   "metadata": {},
   "outputs": [
    {
     "data": {
      "text/plain": [
       "array([[ 0.,  0.,  0.],\n",
       "       [ 0.,  0.,  0.]])"
      ]
     },
     "execution_count": 74,
     "metadata": {},
     "output_type": "execute_result"
    }
   ],
   "source": [
    "import numpy as np #nampy библиотека для чисел\n",
    "np.zeros((2,3))\n"
   ]
  },
  {
   "cell_type": "code",
   "execution_count": 2,
   "metadata": {},
   "outputs": [
    {
     "name": "stdout",
     "output_type": "stream",
     "text": [
      "Введите a 1\n",
      "Введите b 5\n",
      "Введите c 2\n",
      "Корни квадратного уравнения:  -0.4384471871911697 -4.561552812808831\n"
     ]
    }
   ],
   "source": [
    "# #нахождение корней квадратного уравнения в общем виде, коэфициенты у пользователя\n",
    "# from math import sqrt\n",
    "# a = float(input('Введите a '))\n",
    "# b = float(input('Введите b '))\n",
    "# c = float(input('Введите c '))\n",
    "# x1 = (-b + sqrt(b*b - 4*a*c))/ 2*a\n",
    "# x2 = (-b - sqrt(b*b - 4*a*c))/ 2*a\n",
    "# print('Корни квадратного уравнения: ', x1, x2)"
   ]
  },
  {
   "cell_type": "code",
   "execution_count": 12,
   "metadata": {
    "scrolled": true
   },
   "outputs": [
    {
     "name": "stdout",
     "output_type": "stream",
     "text": [
      "Введите число 5\n",
      "Введите a 2\n",
      "Введите b8\n",
      "5 * 2 =  10\n",
      "5 * 3 =  15\n",
      "5 * 4 =  20\n",
      "5 * 5 =  25\n",
      "5 * 6 =  30\n",
      "5 * 7 =  35\n",
      "5 * 8 =  40\n"
     ]
    }
   ],
   "source": [
    "# ### таблица умножения на число M от M*a до M*b M,a,b запрашивается, вывод в столбик\n",
    "# M = int(input('Введите число '))\n",
    "# a = int(input('Введите a '))\n",
    "# b = int(input('Введите b '))\n",
    "# for x in range(a, b+1, +1):\n",
    "#     print('{} * {} = '.format(M, x), M*x)\n",
    "    "
   ]
  },
  {
   "cell_type": "code",
   "execution_count": 117,
   "metadata": {},
   "outputs": [
    {
     "name": "stdout",
     "output_type": "stream",
     "text": [
      "Hello world\n",
      "['H', 'e', 'l', 'l', 'o', ' ', 'c', 'r', 'u', 'e', 'l', ' ', 'w', 'o', 'r', 'l', 'd', '!']\n",
      "['H', 'l', 'e', 'l', 'o', ' ', 'c', 'r', 'u', 'e', 'l', ' ', 'w', 'o', 'r', 'l', 'd', '!']\n",
      "Hlelo cruel world!\n",
      "\n",
      "\n",
      "H\n",
      "ruel wo\n",
      "re o\n",
      "Hloculwrd\n",
      "!\n",
      "d!\n",
      "Hello cruel worl\n",
      "18\n",
      "['Mary', 'has', 'a', 'little', 'lamb']\n",
      "M\n",
      "a\n",
      "r\n",
      "y\n",
      " \n",
      "h\n",
      "a\n",
      "s\n",
      " \n",
      "a\n",
      " \n",
      "l\n",
      "i\n",
      "t\n",
      "t\n",
      "l\n",
      "e\n",
      " \n",
      "l\n",
      "a\n",
      "m\n",
      "b\n",
      "Mary\n",
      "has\n",
      "a\n",
      "little\n",
      "lamb\n"
     ]
    }
   ],
   "source": [
    "# str = 'Hello' + ' ' + 'world'\n",
    "# print(str)\n",
    "\n",
    "# str = \"Hello cruel world!\" #нумерация букв с 0\n",
    "# print(list(str)) # можно менять местами символы\n",
    "\n",
    "# str1 = list(str)\n",
    "# a = str1[1]\n",
    "# str1[1] = str1[2]\n",
    "# str1[2] = a\n",
    "# print(str1)\n",
    "# str2 = ''.join(str1)\n",
    "# print(str2)\n",
    "# print('\\n') # вывод enter\n",
    "# print(str[0]) #получить первый символ строки\n",
    "# print(str[7:14]) # [7; 14), т.е. [7; 13]\n",
    "# print(str[7:14:2]) # каждый второй символ со 2 по 13 включительно\n",
    "# print(str[::2]) # каждый второй символ строки (можно опускать некот. значения)\n",
    "# # если опустить первый, то он приравнивается 0, если второй, то до конца строки, если первый символ больше второго, то возвращается пустая строка, если верхняя граница среза больше длины строки, то она уменьшается до длины строки\n",
    "# print(str[-1]) # последний символ\n",
    "# print(str[-2:]) # два последних символа\n",
    "# print(str[:-2]) # все символы, кроме последних двух\n",
    "# print(len(str)) # длина строки\n",
    "\n",
    "# str = \"Mary has a little lamb\"\n",
    "# print(str.split(' ')) # без (' ') не работает, пробел внутри тоже обязательный\n",
    "# for word in str:\n",
    "#     print(word) # выводит по буквам через энтер\n",
    "    \n",
    "# for word in str.split(' '):\n",
    "#     print(word) # выводит по слову в строке\n",
    "    \n",
    "# кодировки  Latin-1, ASCII, UTF-8, UTF-16; с русскими кодировками ISO-8859-5, KOI8-R, CP1251, CP866 и Mac-cyrillic\n",
    "# uni = u\"Тест\" # unicode-строка в виде константы\n",
    "# print(uni)\n",
    "# uni = unicode(\"Тест\", \"UTF-8\")\n",
    "# print(uni)"
   ]
  },
  {
   "cell_type": "code",
   "execution_count": 38,
   "metadata": {},
   "outputs": [
    {
     "name": "stdout",
     "output_type": "stream",
     "text": [
      "Введите строку крокодила Карл у Клары украл\n",
      "крокодила\n",
      "9\n",
      "Карл\n",
      "4\n",
      "у\n",
      "1\n",
      "Клары\n",
      "5\n",
      "украл\n",
      "5\n",
      "9\n"
     ]
    }
   ],
   "source": [
    "# #программа поиска самого длинного слова в строке разделенного пробелами\n",
    "# s = input('Введите строку ')\n",
    "# b = 0\n",
    "# for word in s.split(' '):\n",
    "#     print(word)\n",
    "#     a = len(word)\n",
    "#     print(a)\n",
    "#     if a >= b:\n",
    "#         b = a\n",
    "# print(b)        "
   ]
  },
  {
   "cell_type": "code",
   "execution_count": 110,
   "metadata": {},
   "outputs": [
    {
     "name": "stdout",
     "output_type": "stream",
     "text": [
      "4452136\n"
     ]
    }
   ],
   "source": [
    "# s1 = '4434###552222311333661'\n",
    "# s2 = ''\n",
    "# let = s1[0]\n",
    "# count = 0\n",
    "# for i in s1:\n",
    "#     if i != let:\n",
    "#         if count < 2:\n",
    "#             let = i\n",
    "#             count = 1\n",
    "#             continue\n",
    "#         s2 = s2 + let\n",
    "#         count = 1\n",
    "#         let = i\n",
    "#     else:\n",
    "#         count += 1\n",
    "# if count > 1:        \n",
    "#     s2 = s2 + let\n",
    "    \n",
    "# # pre_num_sign = s2[0]\n",
    "# s3 = list(s2)\n",
    "# m = -1\n",
    "# for i in s2:\n",
    "#     m += 1\n",
    "#     if i == '#':\n",
    "#         s3[m] = s3[m-1]\n",
    "# s2 = ''.join(s3)\n",
    "# print(s2)\n",
    "\n",
    "\n",
    "\n",
    "    "
   ]
  },
  {
   "cell_type": "code",
   "execution_count": 152,
   "metadata": {},
   "outputs": [
    {
     "name": "stdout",
     "output_type": "stream",
     "text": [
      "первый список:  [0, 1, 2, 3, 4, 5, 6, 7, 8, 9, 10]\n",
      "второй список:  [5, 22, 16, 5.5, 10, 7]\n",
      "второй элемент первого списка:  1\n",
      "второй список с изм. в последнем символе 7->5:  [5, 22, 16, 5.5, 10, 5]\n",
      "сумма двух списков:  [0, 1, 2, 3, 4, 5, 6, 7, 8, 9, 10, 5, 22, 16, 5.5, 10, 5]\n",
      "срез суммы:  [6, 7, 8, 9, 10, 5, 22, 16, 5.5, 10]\n",
      "срез суммы + 2 новых елемента:  [6, 7, 8, 9, 10, 5, 22, 16, 5.5, 10, 4, 12]\n"
     ]
    }
   ],
   "source": [
    "#Кортежи (англ. tuple) используется для представления неизменяемой последовательности разнородных объектов.\n",
    "# возможности: массовая инициалзация переменных, возврат множества значений из функции одновременно\n",
    "# в круглых скобках\n",
    "\n",
    "# List как массивы, в квадратных скобках\n",
    "\n",
    "# b = '157689'\n",
    "# d = list(b)\n",
    "# print(d)\n",
    "# print('\\n')\n",
    "\n",
    "# for x in range(11):\n",
    "#     print(x)\n",
    "#     print(x%2,  x//2) # %2 - остаток от деления на 2\n",
    "#     print(x%3,  x//3) # //2 - целая часть от деления на 2\n",
    "#     print('\\n')\n",
    "\n",
    "# c = [x ** 2 for x in range(11) if x%2 == 0] # list comprehention\n",
    "# print(c)  # [0, 4, 16, 36, 64, 100]\n",
    "\n",
    "# len(s) Длина последовательности s\n",
    "# x in s Проверка принадлежности элемента последовательности. В новых версиях Python можно проверять принадлежность подстроки строке. Возвращает True или False\n",
    "# x not in s = not x in s\n",
    "# s + s1 Конкатенация последовательностей\n",
    "# s*n или n*s Последовательность из n раз повторенной s. Если n < 0, возвращается пустая последовательность.\n",
    "# s[i] Возвращает i-й элемент s или len(s)+i-й, если i < 0\n",
    "# s[i:j:d] Срез из последовательности s от i до j с шагом d будет рассматриваться ниже\n",
    "# min(s) Наименьший элемент s\n",
    "# max(s) Наибольший элемент s\n",
    "# s[i] = x i-й элемент списка s заменяется на x\n",
    "#  s[i:j:d] = t Срез от i до j (с шагом d) заменяется на (список) t\n",
    "# del s[i:j:d] Удаление элементов среза из последовательности\n",
    "\n",
    "# append(x) Добавляет элемент в конец последовательности\n",
    "# count(x) Считает количество элементов, равных x\n",
    "# extend(s) Добавляет к концу последовательности последовательность s\n",
    "# index(x) Возвращает наименьшее i, такое, что s[i] == x. Возбуждает исключение ValueError, если x не найден в s\n",
    "# insert(i, x) Вставляет элемент x в i-й промежуток\n",
    "# pop(i) Возвращает i-й элемент, удаляя его из последовательности\n",
    "# reverse() Меняет порядок элементов s на обратный\n",
    "# sort([cmpfunc]) Сортирует элементы s. Может быть указана своя функция сравнения cmpfunc\n",
    "\n",
    "# tuple to list -> list(x)\n",
    "# list to tuple -> tuple(x)\n",
    "# l = ''\n",
    "# for i in range(12):\n",
    "#     l = l + i\n",
    "#     l\n",
    "# print(l)\n",
    "# l[0:1] = [-1, -1, -1]\n",
    "# print(l)\n",
    "\n",
    "\n",
    "# a1 = range(11)\n",
    "# a = list(a1)\n",
    "# print('первый список: ', a)\n",
    "# b = [5, 22, 16, 5.5, 10, 7]\n",
    "# print('второй список: ', b)\n",
    "\n",
    "# print('второй элемент первого списка: ', a[1])\n",
    "# b[-1] = 5\n",
    "# print('второй список с изм. в последнем символе 7->5: ', b)\n",
    "# c  = a + b\n",
    "# print('сумма двух списков: ', c)\n",
    "# d = c[6:16]\n",
    "# print('срез суммы: ', d)\n",
    "# e = d + [4, 12]\n",
    "# print('срез суммы + 2 новых елемента: ', e)"
   ]
  },
  {
   "cell_type": "code",
   "execution_count": 28,
   "metadata": {},
   "outputs": [
    {
     "name": "stdout",
     "output_type": "stream",
     "text": [
      "kjahfkjse;rkdkfh;io\n",
      "['k', 'j', 'a', 'h', 'f', 'k', 'j', 's', 'e', ';', 'r', 'k', 'd', 'k', 'f', 'h', ';', 'i', 'o']\n",
      "\n",
      "\n",
      "символ:  k\n",
      "кол-во повторений:  4\n",
      "список*  ['j', 'a', 'h', 'f', 'k', 'j', 's', 'e', ';', 'r', 'k', 'd', 'k', 'f', 'h', ';', 'i', 'o']\n",
      "3\n",
      "список*  ['j', 'a', 'h', 'f', 'j', 's', 'e', ';', 'r', 'k', 'd', 'k', 'f', 'h', ';', 'i', 'o']\n",
      "2\n",
      "список*  ['j', 'a', 'h', 'f', 'j', 's', 'e', ';', 'r', 'd', 'k', 'f', 'h', ';', 'i', 'o']\n",
      "1\n",
      "\n",
      "\n",
      "символ:  j\n",
      "кол-во повторений:  2\n",
      "список*  ['a', 'h', 'f', 'j', 's', 'e', ';', 'r', 'd', 'k', 'f', 'h', ';', 'i', 'o']\n",
      "1\n",
      "\n",
      "\n",
      "символ:  a\n",
      "кол-во повторений:  1\n",
      "\n",
      "\n",
      "символ:  h\n",
      "кол-во повторений:  2\n",
      "список*  ['a', 'f', 'j', 's', 'e', ';', 'r', 'd', 'k', 'f', 'h', ';', 'i', 'o']\n",
      "1\n",
      "\n",
      "\n",
      "символ:  f\n",
      "кол-во повторений:  2\n",
      "список*  ['a', 'j', 's', 'e', ';', 'r', 'd', 'k', 'f', 'h', ';', 'i', 'o']\n",
      "1\n",
      "\n",
      "\n",
      "символ:  k\n",
      "кол-во повторений:  1\n",
      "\n",
      "\n",
      "символ:  j\n",
      "кол-во повторений:  1\n",
      "\n",
      "\n",
      "символ:  s\n",
      "кол-во повторений:  1\n",
      "\n",
      "\n",
      "символ:  e\n",
      "кол-во повторений:  1\n",
      "\n",
      "\n",
      "символ:  ;\n",
      "кол-во повторений:  2\n",
      "список*  ['a', 'j', 's', 'e', 'r', 'd', 'k', 'f', 'h', ';', 'i', 'o']\n",
      "1\n",
      "\n",
      "\n",
      "символ:  r\n",
      "кол-во повторений:  1\n",
      "\n",
      "\n",
      "символ:  k\n",
      "кол-во повторений:  1\n",
      "\n",
      "\n",
      "символ:  d\n",
      "кол-во повторений:  1\n",
      "\n",
      "\n",
      "символ:  k\n",
      "кол-во повторений:  1\n",
      "\n",
      "\n",
      "символ:  f\n",
      "кол-во повторений:  1\n",
      "\n",
      "\n",
      "символ:  h\n",
      "кол-во повторений:  1\n",
      "\n",
      "\n",
      "символ:  ;\n",
      "кол-во повторений:  1\n",
      "\n",
      "\n",
      "символ:  i\n",
      "кол-во повторений:  1\n",
      "\n",
      "\n",
      "символ:  o\n",
      "кол-во повторений:  1\n",
      "итого:  ['a', 'j', 's', 'e', 'r', 'd', 'k', 'f', 'h', ';', 'i', 'o']\n",
      "[';' 'a' 'd' 'e' 'f' 'h' 'i' 'j' 'k' 'o' 'r' 's']\n",
      "(12,)\n",
      "12\n"
     ]
    }
   ],
   "source": [
    "# удаление всех повторяющихся элементов из списка\n",
    "\n",
    "p = 'kjahfkjse;rkdkfh;io'\n",
    "print(p)\n",
    "i = 0\n",
    "a = list(p)\n",
    "print(a)\n",
    "a1= np.unique(a)\n",
    "import numpy as np\n",
    "# a2 = a.copy()\n",
    "for q in a[i:]:\n",
    "    print('\\n')\n",
    "    print('символ: ', q)\n",
    "    n = a.count(q)\n",
    "    print('кол-во повторений: ', n)\n",
    "    while n > 1:\n",
    "        a.remove(q)\n",
    "        i = i - 1\n",
    "        print('список* ', a)\n",
    "        n = a.count(q)\n",
    "        print(n)\n",
    "print('итого: ', a)\n",
    "# print('должно быть: [d, j, k, h, s]')\n",
    "print(a1)\n",
    "print(a1.shape)\n",
    "print(len(a))\n",
    "# np.array(a).shape"
   ]
  }
 ],
 "metadata": {
  "kernelspec": {
   "display_name": "Python 3",
   "language": "python",
   "name": "python3"
  },
  "language_info": {
   "codemirror_mode": {
    "name": "ipython",
    "version": 3
   },
   "file_extension": ".py",
   "mimetype": "text/x-python",
   "name": "python",
   "nbconvert_exporter": "python",
   "pygments_lexer": "ipython3",
   "version": "3.6.3"
  }
 },
 "nbformat": 4,
 "nbformat_minor": 2
}
