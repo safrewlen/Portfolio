{
 "cells": [
  {
   "cell_type": "code",
   "execution_count": 2,
   "metadata": {},
   "outputs": [],
   "source": [
    "import pandas as pd\n",
    "import numpy as np \n",
    "import locale\n",
    "locale.setlocale(locale.LC_NUMERIC, '')\n",
    "import os\n",
    "import shutil"
   ]
  },
  {
   "cell_type": "code",
   "execution_count": 4,
   "metadata": {},
   "outputs": [],
   "source": [
    "path_baseline_control = (r'C:\\Users\\safre\\Desktop\\diplom\\pvloop-master\\data\\Baselines\\control')\n",
    "path_baseline_dox = (r'C:\\Users\\safre\\Desktop\\diplom\\pvloop-master\\data\\Baselines\\dox')\n",
    "path_baseline_doxskq = (r'C:\\Users\\safre\\Desktop\\diplom\\pvloop-master\\data\\Baselines\\dox+skq')\n",
    "\n",
    "path_occlusion_control = (r'C:\\Users\\safre\\Desktop\\diplom\\pvloop-master\\data\\Occlusions\\control')\n",
    "path_occlusion_dox = (r'C:\\Users\\safre\\Desktop\\diplom\\pvloop-master\\data\\Occlusions\\dox')\n",
    "path_occlusion_doxskq = (r'C:\\Users\\safre\\Desktop\\diplom\\pvloop-master\\data\\Occlusions\\dox+skq')\n",
    "\n",
    "for subdir, dirs, files in os.walk(r'C:\\Users\\safre\\Desktop\\diplom\\pvloop-master\\data\\all data'):\n",
    "#     print(subdir, dirs, files)\n",
    "    for file in files:\n",
    "        filepath = os.path.join(subdir, file)\n",
    "#         print(filepath)\n",
    "#         print(file, subdir)\n",
    "        if 'baseline' in file:\n",
    "            if 'Controls' in subdir:\n",
    "                shutil.copy(filepath, path_baseline_control, follow_symlinks=True) #функция возвращает путь к местонахождению нового скопированного файла\n",
    "            if 'Dox'in subdir:\n",
    "                shutil.copy(filepath, path_baseline_dox, follow_symlinks=True)\n",
    "            if 'Dox+Skq' in subdir:\n",
    "                shutil.copy(filepath, path_baseline_doxskq, follow_symlinks=True)\n",
    "        if 'occlusion' in file:\n",
    "            if 'Controls' in subdir:\n",
    "                shutil.copy(filepath, path_occlusion_control, follow_symlinks=True) #функция возвращает путь к местонахождению нового скопированного файла\n",
    "            if 'Dox' in subdir:\n",
    "                shutil.copy(filepath, path_occlusion_dox, follow_symlinks=True)\n",
    "            if 'Dox+Skq' in subdir:\n",
    "                shutil.copy(filepath, path_occlusion_doxskq, follow_symlinks=True)"
   ]
  }
 ],
 "metadata": {
  "kernelspec": {
   "display_name": "Python 3",
   "language": "python",
   "name": "python3"
  },
  "language_info": {
   "codemirror_mode": {
    "name": "ipython",
    "version": 3
   },
   "file_extension": ".py",
   "mimetype": "text/x-python",
   "name": "python",
   "nbconvert_exporter": "python",
   "pygments_lexer": "ipython3",
   "version": "3.6.4"
  }
 },
 "nbformat": 4,
 "nbformat_minor": 2
}
